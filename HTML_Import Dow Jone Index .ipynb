{
 "cells": [
  {
   "cell_type": "code",
   "execution_count": 7,
   "metadata": {},
   "outputs": [],
   "source": [
    "import numpy as np\n",
    "import pandas as pd"
   ]
  },
  {
   "cell_type": "code",
   "execution_count": 8,
   "metadata": {},
   "outputs": [
    {
     "data": {
      "text/plain": [
       "{'^DJI':                 Open      High       Low     Close     Volume\n",
       " Date                                                         \n",
       " 2021-09-21  34025.61  34313.88  33914.02  33919.84  349921122\n",
       " 2021-09-20  34459.72  34459.72  33613.03  33970.47  506527994\n",
       " 2021-09-17  34737.86  34779.86  34519.63  34584.88  671000759\n",
       " 2021-09-16  34810.27  34943.55  34540.11  34751.32  320894591\n",
       " 2021-09-15  34580.95  34880.77  34522.03  34814.39  374859256\n",
       " ...              ...       ...       ...       ...        ...\n",
       " 2016-09-29  18322.88  18366.23  18091.64  18143.45   95876571\n",
       " 2016-09-28  18240.22  18349.86  18179.34  18339.24   97656640\n",
       " 2016-09-27  18099.21  18238.10  18052.16  18228.30   84133922\n",
       " 2016-09-26  18217.76  18217.76  18083.32  18094.83   95512646\n",
       " 2016-09-23  18377.36  18383.76  18254.84  18261.45   87173132\n",
       " \n",
       " [1257 rows x 5 columns]}"
      ]
     },
     "execution_count": 8,
     "metadata": {},
     "output_type": "execute_result"
    }
   ],
   "source": [
    "# https://stooq.com/\n",
    "\n",
    "import pandas_datareader.data as web\n",
    "from datetime import datetime\n",
    "\n",
    "all_data = {t:web.get_data_stooq(t) \n",
    "            for t in ['^DJI']}\n",
    "#df = web.DataReader('GOOG', 'stooq')\n",
    "\n",
    "all_data"
   ]
  },
  {
   "cell_type": "code",
   "execution_count": 15,
   "metadata": {},
   "outputs": [
    {
     "data": {
      "text/plain": [
       "{'^DJI':                 Open      High       Low     Close     Volume\n",
       " Date                                                         \n",
       " 2021-09-21  34025.61  34313.88  33914.02  33919.84  349921122\n",
       " 2021-09-20  34459.72  34459.72  33613.03  33970.47  506527994\n",
       " 2021-09-17  34737.86  34779.86  34519.63  34584.88  671000759\n",
       " 2021-09-16  34810.27  34943.55  34540.11  34751.32  320894591\n",
       " 2021-09-15  34580.95  34880.77  34522.03  34814.39  374859256\n",
       " ...              ...       ...       ...       ...        ...\n",
       " 2016-09-29  18322.88  18366.23  18091.64  18143.45   95876571\n",
       " 2016-09-28  18240.22  18349.86  18179.34  18339.24   97656640\n",
       " 2016-09-27  18099.21  18238.10  18052.16  18228.30   84133922\n",
       " 2016-09-26  18217.76  18217.76  18083.32  18094.83   95512646\n",
       " 2016-09-23  18377.36  18383.76  18254.84  18261.45   87173132\n",
       " \n",
       " [1257 rows x 5 columns]}"
      ]
     },
     "execution_count": 15,
     "metadata": {},
     "output_type": "execute_result"
    }
   ],
   "source": [
    "all_data"
   ]
  },
  {
   "cell_type": "code",
   "execution_count": 11,
   "metadata": {},
   "outputs": [
    {
     "data": {
      "text/html": [
       "<div>\n",
       "<style scoped>\n",
       "    .dataframe tbody tr th:only-of-type {\n",
       "        vertical-align: middle;\n",
       "    }\n",
       "\n",
       "    .dataframe tbody tr th {\n",
       "        vertical-align: top;\n",
       "    }\n",
       "\n",
       "    .dataframe thead th {\n",
       "        text-align: right;\n",
       "    }\n",
       "</style>\n",
       "<table border=\"1\" class=\"dataframe\">\n",
       "  <thead>\n",
       "    <tr style=\"text-align: right;\">\n",
       "      <th></th>\n",
       "      <th>^DJI</th>\n",
       "    </tr>\n",
       "    <tr>\n",
       "      <th>Date</th>\n",
       "      <th></th>\n",
       "    </tr>\n",
       "  </thead>\n",
       "  <tbody>\n",
       "    <tr>\n",
       "      <th>2021-09-21</th>\n",
       "      <td>33919.84</td>\n",
       "    </tr>\n",
       "    <tr>\n",
       "      <th>2021-09-20</th>\n",
       "      <td>33970.47</td>\n",
       "    </tr>\n",
       "    <tr>\n",
       "      <th>2021-09-17</th>\n",
       "      <td>34584.88</td>\n",
       "    </tr>\n",
       "    <tr>\n",
       "      <th>2021-09-16</th>\n",
       "      <td>34751.32</td>\n",
       "    </tr>\n",
       "    <tr>\n",
       "      <th>2021-09-15</th>\n",
       "      <td>34814.39</td>\n",
       "    </tr>\n",
       "    <tr>\n",
       "      <th>...</th>\n",
       "      <td>...</td>\n",
       "    </tr>\n",
       "    <tr>\n",
       "      <th>2016-09-29</th>\n",
       "      <td>18143.45</td>\n",
       "    </tr>\n",
       "    <tr>\n",
       "      <th>2016-09-28</th>\n",
       "      <td>18339.24</td>\n",
       "    </tr>\n",
       "    <tr>\n",
       "      <th>2016-09-27</th>\n",
       "      <td>18228.30</td>\n",
       "    </tr>\n",
       "    <tr>\n",
       "      <th>2016-09-26</th>\n",
       "      <td>18094.83</td>\n",
       "    </tr>\n",
       "    <tr>\n",
       "      <th>2016-09-23</th>\n",
       "      <td>18261.45</td>\n",
       "    </tr>\n",
       "  </tbody>\n",
       "</table>\n",
       "<p>1257 rows × 1 columns</p>\n",
       "</div>"
      ],
      "text/plain": [
       "                ^DJI\n",
       "Date                \n",
       "2021-09-21  33919.84\n",
       "2021-09-20  33970.47\n",
       "2021-09-17  34584.88\n",
       "2021-09-16  34751.32\n",
       "2021-09-15  34814.39\n",
       "...              ...\n",
       "2016-09-29  18143.45\n",
       "2016-09-28  18339.24\n",
       "2016-09-27  18228.30\n",
       "2016-09-26  18094.83\n",
       "2016-09-23  18261.45\n",
       "\n",
       "[1257 rows x 1 columns]"
      ]
     },
     "execution_count": 11,
     "metadata": {},
     "output_type": "execute_result"
    }
   ],
   "source": [
    "price=pd.DataFrame({t:data['Close'] \n",
    "                    for t,data in all_data.items()})\n",
    "\n",
    "\n",
    "price"
   ]
  }
 ],
 "metadata": {
  "kernelspec": {
   "display_name": "Python 3",
   "language": "python",
   "name": "python3"
  },
  "language_info": {
   "codemirror_mode": {
    "name": "ipython",
    "version": 3
   },
   "file_extension": ".py",
   "mimetype": "text/x-python",
   "name": "python",
   "nbconvert_exporter": "python",
   "pygments_lexer": "ipython3",
   "version": "3.8.5"
  }
 },
 "nbformat": 4,
 "nbformat_minor": 4
}
