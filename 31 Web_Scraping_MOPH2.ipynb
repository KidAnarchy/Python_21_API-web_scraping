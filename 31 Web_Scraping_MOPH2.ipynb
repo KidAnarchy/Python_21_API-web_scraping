{
 "cells": [
  {
   "cell_type": "markdown",
   "metadata": {},
   "source": [
    "##  Web_Scraping_MOPH version.2\n",
    "\n",
    "I tried to learn how to do Web scraping, this is my first time.\n",
    "\n",
    "***Reference: https://bigdata.go.th/big-data-101/data-science/data-scraping-part-3/***"
   ]
  },
  {
   "cell_type": "code",
   "execution_count": null,
   "metadata": {},
   "outputs": [],
   "source": [
    "import requests\n",
    "import bs4\n",
    "from bs4 import BeautifulSoup\n",
    "\n",
    "import pandas as pd\n",
    "from bisect import bisect"
   ]
  },
  {
   "cell_type": "code",
   "execution_count": null,
   "metadata": {},
   "outputs": [],
   "source": [
    "# Import table from version 1\n",
    "df_ids = pd.read_excel(\"table_id.xlsx\", header=[0])"
   ]
  },
  {
   "cell_type": "code",
   "execution_count": 1,
   "metadata": {},
   "outputs": [],
   "source": [
    "df_all = pd.DataFrame()"
   ]
  },
  {
   "cell_type": "code",
   "execution_count": 2,
   "metadata": {},
   "outputs": [],
   "source": [
    "def get_info_table(url):\n",
    "    url = f\"http://203.157.10.8/hcode_2020/query_detail.php?p=3&code=000001900&oldcode=00019&status=01\"\n",
    "    source = requests.get(url)\n",
    "    soup  = BeautifulSoup(source.content, 'lxml')\n",
    "    div   = soup.find('main', id='main')\n",
    "    section = div.find('section', id='services')\n",
    "    container = section.find('div', class_='container')\n",
    "    card = container.find('div', class_='card card_warning')\n",
    "    card1 = card.find('div', class_='card-body')\n",
    "    form = card1.find('form', role ='form')\n",
    "    roww = form.find('div', class_='row')\n",
    "    rows  = roww.find_all('div')\n",
    "    \n",
    "    pairs = []\n",
    "    for row in rows:\n",
    "        tags = row.contents\n",
    "        ls_header_tags, ls_header_indices = [], []\n",
    "        ls_value_tags,  ls_value_indices  = [], []\n",
    "        headers_paired = []\n",
    "        \n",
    "        for i, tag in enumerate(tags):\n",
    "            if is_header(tag):\n",
    "                ls_header_tags += [tag]\n",
    "                ls_header_indices+= [i]\n",
    "                headers_paired += [False]\n",
    "            elif is_value(tag):\n",
    "                ls_value_tags  += [tag]\n",
    "                ls_value_indices += [i]\n",
    "        \n",
    "        for i in range(0, len(ls_value_tags)):\n",
    "            loc_hd = bisect(ls_header_indices, ls_value_indices[i])\n",
    "            if loc_hd==0: # when value comes before any header\n",
    "                header = pairs[-1][0]+\"_2\"\n",
    "            else:\n",
    "                header = ls_header_tags[loc_hd-1].text\\\n",
    "                        .replace(\"\\xa0\", \"\").replace(\"\\n\", \" \")\\\n",
    "                        .replace(\"\\t\", \" \").strip()\n",
    "                headers_paired[loc_hd-1] = True\n",
    "            \n",
    "            value = ls_value_tags[i].text\\\n",
    "                        .replace(\"\\xa0\", \"\").replace(\"\\n\", \" \")\\\n",
    "                        .replace(\"\\t\", \" \").strip()\n",
    "            \n",
    "            pairs += [[header, value]]\n",
    "        \n",
    "        for i in range(len(ls_header_tags)):\n",
    "            if not headers_paired[i]:\n",
    "                header = ls_header_tags[i].text\\\n",
    "                            .replace(\"\\xa0\", \"\")\\\n",
    "                            .replace(\"\\n\", \" \")\\\n",
    "                            .replace(\"\\t\", \" \")\\\n",
    "                            .strip()\n",
    "                pairs += [[header, \"\"]]\n",
    "    \n",
    "    df = pd.DataFrame(pairs)\n",
    "    df.set_index([0], inplace=True)\n",
    "    df.replace({\"\":np.nan, \"-\":np.nan}, inplace=True)\n",
    "    df.dropna(how='any', axis='index', inplace=True)\n",
    "    df.drop_duplicates(inplace=True)\n",
    "    \n",
    "    return df.T"
   ]
  },
  {
   "cell_type": "code",
   "execution_count": null,
   "metadata": {},
   "outputs": [],
   "source": [
    "for i in range(1, 5):\n",
    "    code    = str(df_ids.iloc[i, 1]).replace(\"\\xa0\", \"\")\n",
    "    oldcode = str(df_ids.iloc[i, 2]).replace(\"\\xa0\", \"\")\n",
    "    url = f\"http://203.157.10.8/hcode_2020/query_detail.php?p=3&code={code}&oldcode={oldcode}&status=01\"\n",
    "    try:\n",
    "        df     = get_info_table(url)\n",
    "        df_all = pd.concat([df_all, df], axis=0, sort=False,\\\n",
    "                               ignore_index=True, join=\"outer\")\n",
    "        print(f\"Done scraping {i}\")\n",
    "        df_all.to_pickle(\"temp.pkl\")\n",
    "    except Exception as e:\n",
    "        print(f\"Cannot scrape {i}\")\n",
    "        print(str(e))\n",
    "\n",
    "#df_all.to_excel('healthcare_providers.xlsx', index=False)"
   ]
  },
  {
   "cell_type": "code",
   "execution_count": null,
   "metadata": {},
   "outputs": [],
   "source": [
    "# 11:40 14/10/2021\n",
    "# inprogress to be continue"
   ]
  },
  {
   "cell_type": "code",
   "execution_count": null,
   "metadata": {},
   "outputs": [],
   "source": []
  },
  {
   "cell_type": "code",
   "execution_count": null,
   "metadata": {},
   "outputs": [],
   "source": []
  },
  {
   "cell_type": "code",
   "execution_count": null,
   "metadata": {},
   "outputs": [],
   "source": []
  },
  {
   "cell_type": "code",
   "execution_count": null,
   "metadata": {},
   "outputs": [],
   "source": []
  }
 ],
 "metadata": {
  "kernelspec": {
   "display_name": "Python 3",
   "language": "python",
   "name": "python3"
  },
  "language_info": {
   "codemirror_mode": {
    "name": "ipython",
    "version": 3
   },
   "file_extension": ".py",
   "mimetype": "text/x-python",
   "name": "python",
   "nbconvert_exporter": "python",
   "pygments_lexer": "ipython3",
   "version": "3.8.5"
  }
 },
 "nbformat": 4,
 "nbformat_minor": 4
}
