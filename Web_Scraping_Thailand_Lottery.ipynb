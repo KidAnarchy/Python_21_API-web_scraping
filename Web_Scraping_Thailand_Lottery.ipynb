{
 "cells": [
  {
   "cell_type": "markdown",
   "metadata": {},
   "source": [
    "## Web scraping for Thailand rottery\n",
    "\n",
    "I tried to learn how to do Web scraping, this is my first time.\n",
    "\n",
    "***Reference: https://www.youtube.com/watch?v=N89ZhgisFew***"
   ]
  },
  {
   "cell_type": "code",
   "execution_count": 25,
   "metadata": {},
   "outputs": [],
   "source": [
    "# Import library that relate to this job.\n",
    "import requests\n",
    "import bs4\n",
    "import pandas as pd\n",
    "import openpyxl\n",
    "from tqdm import tqdm"
   ]
  },
  {
   "cell_type": "code",
   "execution_count": 54,
   "metadata": {},
   "outputs": [
    {
     "name": "stderr",
     "output_type": "stream",
     "text": [
      "100%|██████████████████████████████████████████████████████████████████████████████████| 18/18 [00:05<00:00,  3.47it/s]\n"
     ]
    }
   ],
   "source": [
    "# Build list container to keep data\n",
    "datess = []\n",
    "lottype = []\n",
    "nummer = []\n",
    "\n",
    "# pull 18 pages data of Lottery\n",
    "for i in tqdm(range(1,19)):\n",
    "    url = f\"https://news.sanook.com/lotto/archive/page/{i}/\"\n",
    "    data = requests.get(url)\n",
    "    \n",
    "    soup = bs4.BeautifulSoup(data.text,\"html.parser\")\n",
    "    maindata = soup.find_all('article',{'class':'archive--lotto'})\n",
    "    \n",
    "    for c in maindata:\n",
    "        dates = c.find('h3',{'class':'archive--lotto__head-lot'}).text\n",
    "        resultHEAD = c.find_all('ul',{'class':'archive--lotto__result-list'})\n",
    "        \n",
    "        for rh in resultHEAD:\n",
    "            for r in rh.find_all('em'):\n",
    "                if r.text == \"\":\n",
    "                    datess.append(dates)\n",
    "                else:\n",
    "                    datess.append(dates)\n",
    "                lottype.append(r.text)\n",
    "                \n",
    "        for rh in resultHEAD:\n",
    "            for r in rh.find_all('strong',{'class':'archive--lotto__result-number'}):\n",
    "                st = r.text\n",
    "                st = st.replace('\\n','')\n",
    "                nummer.append(st)"
   ]
  },
  {
   "cell_type": "code",
   "execution_count": 55,
   "metadata": {},
   "outputs": [],
   "source": [
    "# Create Data frame to contain data\n",
    "\n",
    "tb = pd.DataFrame([datess,lottype,nummer]).transpose()\n",
    "tb.columns = ['date','LotteryType','Number']\n",
    "tb.set_index('date',inplace=True)\n",
    "tb.to_excel('lot.xlsx', engine = 'openpyxl', encoding ='utf8')"
   ]
  },
  {
   "cell_type": "code",
   "execution_count": 56,
   "metadata": {},
   "outputs": [
    {
     "data": {
      "text/html": [
       "<div>\n",
       "<style scoped>\n",
       "    .dataframe tbody tr th:only-of-type {\n",
       "        vertical-align: middle;\n",
       "    }\n",
       "\n",
       "    .dataframe tbody tr th {\n",
       "        vertical-align: top;\n",
       "    }\n",
       "\n",
       "    .dataframe thead th {\n",
       "        text-align: right;\n",
       "    }\n",
       "</style>\n",
       "<table border=\"1\" class=\"dataframe\">\n",
       "  <thead>\n",
       "    <tr style=\"text-align: right;\">\n",
       "      <th></th>\n",
       "      <th>LotteryType</th>\n",
       "      <th>Number</th>\n",
       "    </tr>\n",
       "    <tr>\n",
       "      <th>date</th>\n",
       "      <th></th>\n",
       "      <th></th>\n",
       "    </tr>\n",
       "  </thead>\n",
       "  <tbody>\n",
       "    <tr>\n",
       "      <th>ตรวจสลากกินแบ่งรัฐบาล ตรวจหวย 1 ตุลาคม 2564</th>\n",
       "      <td>ผลสลากกินแบ่งรัฐบาล รางวัลที่ 1</td>\n",
       "      <td>578171</td>\n",
       "    </tr>\n",
       "    <tr>\n",
       "      <th>ตรวจสลากกินแบ่งรัฐบาล ตรวจหวย 1 ตุลาคม 2564</th>\n",
       "      <td>ผลสลากกินแบ่งรัฐบาล เลขหน้า 3 ตัว</td>\n",
       "      <td>285361</td>\n",
       "    </tr>\n",
       "    <tr>\n",
       "      <th>ตรวจสลากกินแบ่งรัฐบาล ตรวจหวย 1 ตุลาคม 2564</th>\n",
       "      <td>ผลสลากกินแบ่งรัฐบาล เลขท้าย 3 ตัว</td>\n",
       "      <td>379449</td>\n",
       "    </tr>\n",
       "    <tr>\n",
       "      <th>ตรวจสลากกินแบ่งรัฐบาล ตรวจหวย 1 ตุลาคม 2564</th>\n",
       "      <td>ผลสลากกินแบ่งรัฐบาล เลขท้าย 2 ตัว</td>\n",
       "      <td>83</td>\n",
       "    </tr>\n",
       "    <tr>\n",
       "      <th>ตรวจสลากกินแบ่งรัฐบาล ตรวจหวย 16 กันยายน 2564</th>\n",
       "      <td>ผลสลากกินแบ่งรัฐบาล รางวัลที่ 1</td>\n",
       "      <td>070935</td>\n",
       "    </tr>\n",
       "    <tr>\n",
       "      <th>...</th>\n",
       "      <td>...</td>\n",
       "      <td>...</td>\n",
       "    </tr>\n",
       "    <tr>\n",
       "      <th>หวย-ผลสลากกินแบ่งรัฐบาลงวดประจำวันที่-16-มกราคม-2550</th>\n",
       "      <td>ผลสลากกินแบ่งรัฐบาล เลขท้าย 3 ตัว</td>\n",
       "      <td>263293803845</td>\n",
       "    </tr>\n",
       "    <tr>\n",
       "      <th>หวย-ผลสลากกินแบ่งรัฐบาลงวดประจำวันที่-16-มกราคม-2550</th>\n",
       "      <td>ผลสลากกินแบ่งรัฐบาล เลขท้าย 2 ตัว</td>\n",
       "      <td>54</td>\n",
       "    </tr>\n",
       "    <tr>\n",
       "      <th>หวย ผลสลากกินแบ่งรัฐบาลงวดประจำวันที่ 30 ธันวาคม 2549</th>\n",
       "      <td>ผลสลากกินแบ่งรัฐบาล รางวัลที่ 1</td>\n",
       "      <td>778584</td>\n",
       "    </tr>\n",
       "    <tr>\n",
       "      <th>หวย ผลสลากกินแบ่งรัฐบาลงวดประจำวันที่ 30 ธันวาคม 2549</th>\n",
       "      <td>ผลสลากกินแบ่งรัฐบาล เลขท้าย 3 ตัว</td>\n",
       "      <td>164403811971</td>\n",
       "    </tr>\n",
       "    <tr>\n",
       "      <th>หวย ผลสลากกินแบ่งรัฐบาลงวดประจำวันที่ 30 ธันวาคม 2549</th>\n",
       "      <td>ผลสลากกินแบ่งรัฐบาล เลขท้าย 2 ตัว</td>\n",
       "      <td>07</td>\n",
       "    </tr>\n",
       "  </tbody>\n",
       "</table>\n",
       "<p>1201 rows × 2 columns</p>\n",
       "</div>"
      ],
      "text/plain": [
       "                                                                          LotteryType  \\\n",
       "date                                                                                    \n",
       "ตรวจสลากกินแบ่งรัฐบาล ตรวจหวย 1 ตุลาคม 2564           ผลสลากกินแบ่งรัฐบาล รางวัลที่ 1   \n",
       "ตรวจสลากกินแบ่งรัฐบาล ตรวจหวย 1 ตุลาคม 2564         ผลสลากกินแบ่งรัฐบาล เลขหน้า 3 ตัว   \n",
       "ตรวจสลากกินแบ่งรัฐบาล ตรวจหวย 1 ตุลาคม 2564         ผลสลากกินแบ่งรัฐบาล เลขท้าย 3 ตัว   \n",
       "ตรวจสลากกินแบ่งรัฐบาล ตรวจหวย 1 ตุลาคม 2564         ผลสลากกินแบ่งรัฐบาล เลขท้าย 2 ตัว   \n",
       "ตรวจสลากกินแบ่งรัฐบาล ตรวจหวย 16 กันยายน 2564         ผลสลากกินแบ่งรัฐบาล รางวัลที่ 1   \n",
       "...                                                                               ...   \n",
       "หวย-ผลสลากกินแบ่งรัฐบาลงวดประจำวันที่-16-มกราคม...  ผลสลากกินแบ่งรัฐบาล เลขท้าย 3 ตัว   \n",
       "หวย-ผลสลากกินแบ่งรัฐบาลงวดประจำวันที่-16-มกราคม...  ผลสลากกินแบ่งรัฐบาล เลขท้าย 2 ตัว   \n",
       "หวย ผลสลากกินแบ่งรัฐบาลงวดประจำวันที่ 30 ธันวาค...    ผลสลากกินแบ่งรัฐบาล รางวัลที่ 1   \n",
       "หวย ผลสลากกินแบ่งรัฐบาลงวดประจำวันที่ 30 ธันวาค...  ผลสลากกินแบ่งรัฐบาล เลขท้าย 3 ตัว   \n",
       "หวย ผลสลากกินแบ่งรัฐบาลงวดประจำวันที่ 30 ธันวาค...  ผลสลากกินแบ่งรัฐบาล เลขท้าย 2 ตัว   \n",
       "\n",
       "                                                          Number  \n",
       "date                                                              \n",
       "ตรวจสลากกินแบ่งรัฐบาล ตรวจหวย 1 ตุลาคม 2564               578171  \n",
       "ตรวจสลากกินแบ่งรัฐบาล ตรวจหวย 1 ตุลาคม 2564               285361  \n",
       "ตรวจสลากกินแบ่งรัฐบาล ตรวจหวย 1 ตุลาคม 2564               379449  \n",
       "ตรวจสลากกินแบ่งรัฐบาล ตรวจหวย 1 ตุลาคม 2564                   83  \n",
       "ตรวจสลากกินแบ่งรัฐบาล ตรวจหวย 16 กันยายน 2564             070935  \n",
       "...                                                          ...  \n",
       "หวย-ผลสลากกินแบ่งรัฐบาลงวดประจำวันที่-16-มกราคม...  263293803845  \n",
       "หวย-ผลสลากกินแบ่งรัฐบาลงวดประจำวันที่-16-มกราคม...            54  \n",
       "หวย ผลสลากกินแบ่งรัฐบาลงวดประจำวันที่ 30 ธันวาค...        778584  \n",
       "หวย ผลสลากกินแบ่งรัฐบาลงวดประจำวันที่ 30 ธันวาค...  164403811971  \n",
       "หวย ผลสลากกินแบ่งรัฐบาลงวดประจำวันที่ 30 ธันวาค...            07  \n",
       "\n",
       "[1201 rows x 2 columns]"
      ]
     },
     "execution_count": 56,
     "metadata": {},
     "output_type": "execute_result"
    }
   ],
   "source": [
    "# Checked example \n",
    "tb"
   ]
  }
 ],
 "metadata": {
  "kernelspec": {
   "display_name": "Python 3",
   "language": "python",
   "name": "python3"
  },
  "language_info": {
   "codemirror_mode": {
    "name": "ipython",
    "version": 3
   },
   "file_extension": ".py",
   "mimetype": "text/x-python",
   "name": "python",
   "nbconvert_exporter": "python",
   "pygments_lexer": "ipython3",
   "version": "3.8.5"
  }
 },
 "nbformat": 4,
 "nbformat_minor": 4
}
