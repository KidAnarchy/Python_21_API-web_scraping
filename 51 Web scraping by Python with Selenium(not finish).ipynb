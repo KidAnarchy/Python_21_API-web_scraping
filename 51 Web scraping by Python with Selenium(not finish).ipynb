{
 "cells": [
  {
   "cell_type": "markdown",
   "metadata": {},
   "source": [
    "### Web scraping by Python with Selenium <Beginner>"
   ]
  },
  {
   "cell_type": "markdown",
   "metadata": {},
   "source": [
    "Reference: https://kaeroidata.medium.com/web-scraping-%E0%B8%94%E0%B9%89%E0%B8%A7%E0%B8%A2-python-%E0%B9%82%E0%B8%94%E0%B8%A2-selenium-beginner-ad6369624ccd"
   ]
  },
  {
   "cell_type": "code",
   "execution_count": 1,
   "metadata": {},
   "outputs": [],
   "source": [
    "# Webpage for pactice IMDb : https://www.imdb.com/"
   ]
  },
  {
   "cell_type": "code",
   "execution_count": 2,
   "metadata": {},
   "outputs": [],
   "source": [
    "# Install Selenium Module\n",
    "# pip install selenium"
   ]
  },
  {
   "cell_type": "markdown",
   "metadata": {},
   "source": [
    "1. Import Library"
   ]
  },
  {
   "cell_type": "code",
   "execution_count": 3,
   "metadata": {},
   "outputs": [],
   "source": [
    "#Import modules\n",
    "from selenium import webdriver\n",
    "import pandas as pd\n",
    "import os"
   ]
  },
  {
   "cell_type": "markdown",
   "metadata": {},
   "source": [
    "2. Set directory(folder)"
   ]
  },
  {
   "cell_type": "code",
   "execution_count": 4,
   "metadata": {},
   "outputs": [],
   "source": [
    "#Set directory\n",
    "path = 'C:/web_selenium/' \n",
    "os.chdir(path) "
   ]
  },
  {
   "cell_type": "markdown",
   "metadata": {},
   "source": [
    "3. Simulate Chrome that use for control "
   ]
  },
  {
   "cell_type": "code",
   "execution_count": 40,
   "metadata": {},
   "outputs": [
    {
     "name": "stderr",
     "output_type": "stream",
     "text": [
      "<ipython-input-40-7552ee6a9e0a>:2: DeprecationWarning: executable_path has been deprecated, please pass in a Service object\n",
      "  driver = webdriver.Chrome(path+\"chromedriver.exe\")\n"
     ]
    }
   ],
   "source": [
    "#Open webdriver \n",
    "driver = webdriver.Chrome(path+\"chromedriver.exe\")\n",
    "driver.get('https://www.imdb.com/chart/boxoffice?pf_rd_m=A2FGELUUNOQJNL&pf_rd_p=470df400-70d9-4f35-bb05-8646a1195842&pf_rd_r=80H34VYDFNN65N71Z4FY&pf_rd_s=right-4&pf_rd_t=15506&pf_rd_i=moviemeter&ref_=chtmvm_ql_1')"
   ]
  },
  {
   "cell_type": "markdown",
   "metadata": {},
   "source": [
    "Movie Names"
   ]
  },
  {
   "cell_type": "code",
   "execution_count": 6,
   "metadata": {},
   "outputs": [
    {
     "name": "stderr",
     "output_type": "stream",
     "text": [
      "<ipython-input-6-a58d749057a0>:2: DeprecationWarning: find_elements_by_* commands are deprecated. Please use find_elements() instead\n",
      "  movienames = driver.find_elements_by_class_name('titleColumn')\n"
     ]
    }
   ],
   "source": [
    "#Get location of movie names\n",
    "movienames = driver.find_elements_by_class_name('titleColumn')"
   ]
  },
  {
   "cell_type": "code",
   "execution_count": 7,
   "metadata": {},
   "outputs": [],
   "source": [
    "#Get movie names\n",
    "Movienames=[name.text for name in movienames]"
   ]
  },
  {
   "cell_type": "markdown",
   "metadata": {},
   "source": [
    "Rating"
   ]
  },
  {
   "cell_type": "code",
   "execution_count": 8,
   "metadata": {},
   "outputs": [
    {
     "name": "stderr",
     "output_type": "stream",
     "text": [
      "<ipython-input-8-c9f84e869c4c>:2: DeprecationWarning: find_elements_by_* commands are deprecated. Please use find_elements() instead\n",
      "  ratings = driver.find_elements_by_class_name('ratingColumn')\n"
     ]
    }
   ],
   "source": [
    "#Get ratings\n",
    "ratings = driver.find_elements_by_class_name('ratingColumn')\n",
    "Ratings=[rating.text for rating in ratings]"
   ]
  },
  {
   "cell_type": "code",
   "execution_count": 9,
   "metadata": {},
   "outputs": [
    {
     "name": "stderr",
     "output_type": "stream",
     "text": [
      "<ipython-input-9-b9dcf515644a>:2: DeprecationWarning: find_elements_by_* commands are deprecated. Please use find_elements() instead\n",
      "  grosses = driver.find_elements_by_class_name('secondaryInfo')\n"
     ]
    }
   ],
   "source": [
    "#Get Gross\n",
    "grosses = driver.find_elements_by_class_name('secondaryInfo')\n",
    "Gross = [gross.text for gross in grosses]"
   ]
  },
  {
   "cell_type": "markdown",
   "metadata": {},
   "source": [
    "Create DataFrame"
   ]
  },
  {
   "cell_type": "code",
   "execution_count": 11,
   "metadata": {},
   "outputs": [],
   "source": [
    "#Convert to table (DataFrame) set Columns names: MovieNames and Ratings\n",
    "DF_TopBoxOffice = pd.DataFrame({'MovieNames':Movienames , 'Gross':Gross})"
   ]
  },
  {
   "cell_type": "markdown",
   "metadata": {},
   "source": [
    "Export to Excel file"
   ]
  },
  {
   "cell_type": "code",
   "execution_count": 12,
   "metadata": {},
   "outputs": [],
   "source": [
    "#Export to Excel\n",
    "DF_TopBoxOffice.to_excel('DF_TopBoxOffice.xlsx')"
   ]
  },
  {
   "cell_type": "markdown",
   "metadata": {},
   "source": [
    "### Keep Cast Name(Links)"
   ]
  },
  {
   "cell_type": "code",
   "execution_count": 13,
   "metadata": {},
   "outputs": [
    {
     "name": "stderr",
     "output_type": "stream",
     "text": [
      "<ipython-input-13-cfac527161b9>:2: DeprecationWarning: find_elements_by_* commands are deprecated. Please use find_elements() instead\n",
      "  links=driver.find_elements_by_xpath(\"//td[@class='titleColumn']/a\")\n"
     ]
    }
   ],
   "source": [
    "#Get location of links\n",
    "links=driver.find_elements_by_xpath(\"//td[@class='titleColumn']/a\")"
   ]
  },
  {
   "cell_type": "code",
   "execution_count": 14,
   "metadata": {},
   "outputs": [],
   "source": [
    "# จากนั้นจะใช้ method .get_attribute('href') ในการเก็บ link ออกมา ดังนี้\n",
    "#Get links\n",
    "Links = [link.get_attribute('href') for link in links]"
   ]
  },
  {
   "cell_type": "code",
   "execution_count": 15,
   "metadata": {},
   "outputs": [],
   "source": [
    "# นำ link ที่ได้มาไปเก็บบน DataFrame\n",
    "DF_TopBoxOffice['Links']=Links"
   ]
  },
  {
   "cell_type": "code",
   "execution_count": 16,
   "metadata": {},
   "outputs": [
    {
     "data": {
      "text/html": [
       "<div>\n",
       "<style scoped>\n",
       "    .dataframe tbody tr th:only-of-type {\n",
       "        vertical-align: middle;\n",
       "    }\n",
       "\n",
       "    .dataframe tbody tr th {\n",
       "        vertical-align: top;\n",
       "    }\n",
       "\n",
       "    .dataframe thead th {\n",
       "        text-align: right;\n",
       "    }\n",
       "</style>\n",
       "<table border=\"1\" class=\"dataframe\">\n",
       "  <thead>\n",
       "    <tr style=\"text-align: right;\">\n",
       "      <th></th>\n",
       "      <th>MovieNames</th>\n",
       "      <th>Gross</th>\n",
       "      <th>Links</th>\n",
       "    </tr>\n",
       "  </thead>\n",
       "  <tbody>\n",
       "    <tr>\n",
       "      <th>0</th>\n",
       "      <td>Ghostbusters: Afterlife</td>\n",
       "      <td>$44.0M</td>\n",
       "      <td>https://www.imdb.com/title/tt4513678?pf_rd_m=A...</td>\n",
       "    </tr>\n",
       "    <tr>\n",
       "      <th>1</th>\n",
       "      <td>Eternals</td>\n",
       "      <td>$136.1M</td>\n",
       "      <td>https://www.imdb.com/title/tt9032400?pf_rd_m=A...</td>\n",
       "    </tr>\n",
       "    <tr>\n",
       "      <th>2</th>\n",
       "      <td>Clifford the Big Red Dog</td>\n",
       "      <td>$33.5M</td>\n",
       "      <td>https://www.imdb.com/title/tt2397461?pf_rd_m=A...</td>\n",
       "    </tr>\n",
       "    <tr>\n",
       "      <th>3</th>\n",
       "      <td>King Richard</td>\n",
       "      <td>$5.4M</td>\n",
       "      <td>https://www.imdb.com/title/tt9620288?pf_rd_m=A...</td>\n",
       "    </tr>\n",
       "    <tr>\n",
       "      <th>4</th>\n",
       "      <td>Dune: Part One</td>\n",
       "      <td>$98.3M</td>\n",
       "      <td>https://www.imdb.com/title/tt1160419?pf_rd_m=A...</td>\n",
       "    </tr>\n",
       "    <tr>\n",
       "      <th>5</th>\n",
       "      <td>Venom: Let There Be Carnage</td>\n",
       "      <td>$206.6M</td>\n",
       "      <td>https://www.imdb.com/title/tt7097896?pf_rd_m=A...</td>\n",
       "    </tr>\n",
       "    <tr>\n",
       "      <th>6</th>\n",
       "      <td>No Time to Die</td>\n",
       "      <td>$154.7M</td>\n",
       "      <td>https://www.imdb.com/title/tt2382320?pf_rd_m=A...</td>\n",
       "    </tr>\n",
       "    <tr>\n",
       "      <th>7</th>\n",
       "      <td>The French Dispatch</td>\n",
       "      <td>$13.3M</td>\n",
       "      <td>https://www.imdb.com/title/tt8847712?pf_rd_m=A...</td>\n",
       "    </tr>\n",
       "    <tr>\n",
       "      <th>8</th>\n",
       "      <td>Belfast</td>\n",
       "      <td>$3.4M</td>\n",
       "      <td>https://www.imdb.com/title/tt12789558?pf_rd_m=...</td>\n",
       "    </tr>\n",
       "    <tr>\n",
       "      <th>9</th>\n",
       "      <td>Ron's Gone Wrong</td>\n",
       "      <td>$22.2M</td>\n",
       "      <td>https://www.imdb.com/title/tt7504818?pf_rd_m=A...</td>\n",
       "    </tr>\n",
       "  </tbody>\n",
       "</table>\n",
       "</div>"
      ],
      "text/plain": [
       "                    MovieNames    Gross  \\\n",
       "0      Ghostbusters: Afterlife   $44.0M   \n",
       "1                     Eternals  $136.1M   \n",
       "2     Clifford the Big Red Dog   $33.5M   \n",
       "3                 King Richard    $5.4M   \n",
       "4               Dune: Part One   $98.3M   \n",
       "5  Venom: Let There Be Carnage  $206.6M   \n",
       "6               No Time to Die  $154.7M   \n",
       "7          The French Dispatch   $13.3M   \n",
       "8                      Belfast    $3.4M   \n",
       "9             Ron's Gone Wrong   $22.2M   \n",
       "\n",
       "                                               Links  \n",
       "0  https://www.imdb.com/title/tt4513678?pf_rd_m=A...  \n",
       "1  https://www.imdb.com/title/tt9032400?pf_rd_m=A...  \n",
       "2  https://www.imdb.com/title/tt2397461?pf_rd_m=A...  \n",
       "3  https://www.imdb.com/title/tt9620288?pf_rd_m=A...  \n",
       "4  https://www.imdb.com/title/tt1160419?pf_rd_m=A...  \n",
       "5  https://www.imdb.com/title/tt7097896?pf_rd_m=A...  \n",
       "6  https://www.imdb.com/title/tt2382320?pf_rd_m=A...  \n",
       "7  https://www.imdb.com/title/tt8847712?pf_rd_m=A...  \n",
       "8  https://www.imdb.com/title/tt12789558?pf_rd_m=...  \n",
       "9  https://www.imdb.com/title/tt7504818?pf_rd_m=A...  "
      ]
     },
     "execution_count": 16,
     "metadata": {},
     "output_type": "execute_result"
    }
   ],
   "source": [
    "DF_TopBoxOffice"
   ]
  },
  {
   "cell_type": "code",
   "execution_count": 17,
   "metadata": {},
   "outputs": [
    {
     "data": {
      "text/plain": [
       "'หลังจากเราได้ link มาแล้ว เมื่อเข้าไปทีละลิ้งค์เราจะดึงอะไรออกมาได้บ้าง\\n1. ชื่อผู้กำกับ (Director)\\n2. รายชื่อนักแสดงและบทบาทที่แสดง (Cast)\\n3. โครงเรื่อง (Storyline) และประเภทหนัง (Genres)\\n4. ระยะเวลาของหนัง (Runtime)\\n5. วันที่หนังฉาย (Release Date)\\n6. รายได้รวมทั่วโลก ณ.ปัจจุบัน (Cumulative Worldwide Gross)'"
      ]
     },
     "execution_count": 17,
     "metadata": {},
     "output_type": "execute_result"
    }
   ],
   "source": [
    "'''หลังจากเราได้ link มาแล้ว เมื่อเข้าไปทีละลิ้งค์เราจะดึงอะไรออกมาได้บ้าง\n",
    "1. ชื่อผู้กำกับ (Director)\n",
    "2. รายชื่อนักแสดงและบทบาทที่แสดง (Cast)\n",
    "3. โครงเรื่อง (Storyline) และประเภทหนัง (Genres)\n",
    "4. ระยะเวลาของหนัง (Runtime)\n",
    "5. วันที่หนังฉาย (Release Date)\n",
    "6. รายได้รวมทั่วโลก ณ.ปัจจุบัน (Cumulative Worldwide Gross)'''"
   ]
  },
  {
   "cell_type": "markdown",
   "metadata": {},
   "source": [
    "Testing pull 1 page before use loop and test code before pull all pages."
   ]
  },
  {
   "cell_type": "code",
   "execution_count": 31,
   "metadata": {},
   "outputs": [
    {
     "name": "stderr",
     "output_type": "stream",
     "text": [
      "<ipython-input-31-0ddd172abbe0>:20: DeprecationWarning: find_element_by_* commands are deprecated. Please use find_element() instead\n",
      "  director = driver.find_element_by_xpath(\"//div[@class='ipc-metadata-list-item__content-container']\").text\n",
      "<ipython-input-31-0ddd172abbe0>:23: DeprecationWarning: find_element_by_* commands are deprecated. Please use find_element() instead\n",
      "  storyline = driver.find_element_by_xpath(\"//div[@class='ipc-html-content ipc-html-content--base']\").text\n"
     ]
    }
   ],
   "source": [
    "#Set List to keep data in each link\n",
    "Director=[]\n",
    "#ActorNames =[]\n",
    "#CharacterNames =[]\n",
    "Storyline=[]\n",
    "#Runtime=[]\n",
    "#Genres=[]\n",
    "#Releasedate=[]\n",
    "#Budget=[]\n",
    "Worldwidegross=[]\n",
    "\n",
    "#Open first links\n",
    "#driver.get(Links[0])\n",
    "\n",
    "#Loop Links\n",
    "for link in range(0,len(Links)):\n",
    "    driver.get(Links[link])\n",
    "\n",
    "    #Get Director\n",
    "    director = driver.find_element_by_xpath(\"//div[@class='ipc-metadata-list-item__content-container']/a\").text\n",
    "\n",
    "    #Get storyline\n",
    "    storyline = driver.find_element_by_xpath(\"//div[@class='ipc-html-content ipc-html-content--base']\").text\n",
    "    \n",
    "    \n",
    "    #Collect data in each website \n",
    "    Director.append(director)\n",
    "    #ActorNames.append(Actornames)\n",
    "    #CharacterNames.append(Characternames)\n",
    "    Storyline.append(storyline)\n",
    "    #Runtime.append(runtime2)\n",
    "    #Genres.append(genres2)\n",
    "    #Releasedate.append(releasedate)\n",
    "    #Worldwidegross.append(worldwidegross2)"
   ]
  },
  {
   "cell_type": "code",
   "execution_count": 38,
   "metadata": {},
   "outputs": [
    {
     "data": {
      "text/plain": [
       "''"
      ]
     },
     "execution_count": 38,
     "metadata": {},
     "output_type": "execute_result"
    }
   ],
   "source": [
    "director"
   ]
  },
  {
   "cell_type": "code",
   "execution_count": 32,
   "metadata": {},
   "outputs": [],
   "source": [
    "#Collect all data to New DataFrame\n",
    "DF_TopBoxOffice2=pd.DataFrame({'Director':Director,'Storyline':Storyline})"
   ]
  },
  {
   "cell_type": "code",
   "execution_count": 33,
   "metadata": {},
   "outputs": [],
   "source": [
    "#Concatenate 2 DataFrame\n",
    "DF_TopBoxOffice=pd.concat([DF_TopBoxOffice, DF_TopBoxOffice2], axis=1)"
   ]
  },
  {
   "cell_type": "code",
   "execution_count": 34,
   "metadata": {},
   "outputs": [],
   "source": [
    "#Export to excel file\n",
    "DF_TopBoxOffice.to_excel('DF_TopBoxOffice_Data.xlsx')"
   ]
  },
  {
   "cell_type": "code",
   "execution_count": 35,
   "metadata": {},
   "outputs": [
    {
     "data": {
      "text/html": [
       "<div>\n",
       "<style scoped>\n",
       "    .dataframe tbody tr th:only-of-type {\n",
       "        vertical-align: middle;\n",
       "    }\n",
       "\n",
       "    .dataframe tbody tr th {\n",
       "        vertical-align: top;\n",
       "    }\n",
       "\n",
       "    .dataframe thead th {\n",
       "        text-align: right;\n",
       "    }\n",
       "</style>\n",
       "<table border=\"1\" class=\"dataframe\">\n",
       "  <thead>\n",
       "    <tr style=\"text-align: right;\">\n",
       "      <th></th>\n",
       "      <th>MovieNames</th>\n",
       "      <th>Gross</th>\n",
       "      <th>Links</th>\n",
       "      <th>Director</th>\n",
       "      <th>Storyline</th>\n",
       "    </tr>\n",
       "  </thead>\n",
       "  <tbody>\n",
       "    <tr>\n",
       "      <th>0</th>\n",
       "      <td>Ghostbusters: Afterlife</td>\n",
       "      <td>$44.0M</td>\n",
       "      <td>https://www.imdb.com/title/tt4513678?pf_rd_m=A...</td>\n",
       "      <td></td>\n",
       "      <td>When a single mom and her two kids arrive in a...</td>\n",
       "    </tr>\n",
       "    <tr>\n",
       "      <th>1</th>\n",
       "      <td>Eternals</td>\n",
       "      <td>$136.1M</td>\n",
       "      <td>https://www.imdb.com/title/tt9032400?pf_rd_m=A...</td>\n",
       "      <td></td>\n",
       "      <td>Following the events of Avengers: Endgame (201...</td>\n",
       "    </tr>\n",
       "    <tr>\n",
       "      <th>2</th>\n",
       "      <td>Clifford the Big Red Dog</td>\n",
       "      <td>$33.5M</td>\n",
       "      <td>https://www.imdb.com/title/tt2397461?pf_rd_m=A...</td>\n",
       "      <td></td>\n",
       "      <td>As middle schooler Emily Elizabeth struggles t...</td>\n",
       "    </tr>\n",
       "    <tr>\n",
       "      <th>3</th>\n",
       "      <td>King Richard</td>\n",
       "      <td>$5.4M</td>\n",
       "      <td>https://www.imdb.com/title/tt9620288?pf_rd_m=A...</td>\n",
       "      <td></td>\n",
       "      <td>A look at how tennis superstars Venus and Sere...</td>\n",
       "    </tr>\n",
       "    <tr>\n",
       "      <th>4</th>\n",
       "      <td>Dune: Part One</td>\n",
       "      <td>$98.3M</td>\n",
       "      <td>https://www.imdb.com/title/tt1160419?pf_rd_m=A...</td>\n",
       "      <td></td>\n",
       "      <td>A mythic and emotionally charged hero's journe...</td>\n",
       "    </tr>\n",
       "    <tr>\n",
       "      <th>5</th>\n",
       "      <td>Venom: Let There Be Carnage</td>\n",
       "      <td>$206.6M</td>\n",
       "      <td>https://www.imdb.com/title/tt7097896?pf_rd_m=A...</td>\n",
       "      <td></td>\n",
       "      <td>Eddie Brock struggles to adjust to his new lif...</td>\n",
       "    </tr>\n",
       "    <tr>\n",
       "      <th>6</th>\n",
       "      <td>No Time to Die</td>\n",
       "      <td>$154.7M</td>\n",
       "      <td>https://www.imdb.com/title/tt2382320?pf_rd_m=A...</td>\n",
       "      <td></td>\n",
       "      <td>Bond has left active service and is enjoying a...</td>\n",
       "    </tr>\n",
       "    <tr>\n",
       "      <th>7</th>\n",
       "      <td>The French Dispatch</td>\n",
       "      <td>$13.3M</td>\n",
       "      <td>https://www.imdb.com/title/tt8847712?pf_rd_m=A...</td>\n",
       "      <td></td>\n",
       "      <td>A love letter to journalists set in an outpost...</td>\n",
       "    </tr>\n",
       "    <tr>\n",
       "      <th>8</th>\n",
       "      <td>Belfast</td>\n",
       "      <td>$3.4M</td>\n",
       "      <td>https://www.imdb.com/title/tt12789558?pf_rd_m=...</td>\n",
       "      <td></td>\n",
       "      <td>A young boy and his working class family exper...</td>\n",
       "    </tr>\n",
       "    <tr>\n",
       "      <th>9</th>\n",
       "      <td>Ron's Gone Wrong</td>\n",
       "      <td>$22.2M</td>\n",
       "      <td>https://www.imdb.com/title/tt7504818?pf_rd_m=A...</td>\n",
       "      <td></td>\n",
       "      <td>Twentieth Century Studios and Locksmith Animat...</td>\n",
       "    </tr>\n",
       "  </tbody>\n",
       "</table>\n",
       "</div>"
      ],
      "text/plain": [
       "                    MovieNames    Gross  \\\n",
       "0      Ghostbusters: Afterlife   $44.0M   \n",
       "1                     Eternals  $136.1M   \n",
       "2     Clifford the Big Red Dog   $33.5M   \n",
       "3                 King Richard    $5.4M   \n",
       "4               Dune: Part One   $98.3M   \n",
       "5  Venom: Let There Be Carnage  $206.6M   \n",
       "6               No Time to Die  $154.7M   \n",
       "7          The French Dispatch   $13.3M   \n",
       "8                      Belfast    $3.4M   \n",
       "9             Ron's Gone Wrong   $22.2M   \n",
       "\n",
       "                                               Links Director  \\\n",
       "0  https://www.imdb.com/title/tt4513678?pf_rd_m=A...            \n",
       "1  https://www.imdb.com/title/tt9032400?pf_rd_m=A...            \n",
       "2  https://www.imdb.com/title/tt2397461?pf_rd_m=A...            \n",
       "3  https://www.imdb.com/title/tt9620288?pf_rd_m=A...            \n",
       "4  https://www.imdb.com/title/tt1160419?pf_rd_m=A...            \n",
       "5  https://www.imdb.com/title/tt7097896?pf_rd_m=A...            \n",
       "6  https://www.imdb.com/title/tt2382320?pf_rd_m=A...            \n",
       "7  https://www.imdb.com/title/tt8847712?pf_rd_m=A...            \n",
       "8  https://www.imdb.com/title/tt12789558?pf_rd_m=...            \n",
       "9  https://www.imdb.com/title/tt7504818?pf_rd_m=A...            \n",
       "\n",
       "                                           Storyline  \n",
       "0  When a single mom and her two kids arrive in a...  \n",
       "1  Following the events of Avengers: Endgame (201...  \n",
       "2  As middle schooler Emily Elizabeth struggles t...  \n",
       "3  A look at how tennis superstars Venus and Sere...  \n",
       "4  A mythic and emotionally charged hero's journe...  \n",
       "5  Eddie Brock struggles to adjust to his new lif...  \n",
       "6  Bond has left active service and is enjoying a...  \n",
       "7  A love letter to journalists set in an outpost...  \n",
       "8  A young boy and his working class family exper...  \n",
       "9  Twentieth Century Studios and Locksmith Animat...  "
      ]
     },
     "execution_count": 35,
     "metadata": {},
     "output_type": "execute_result"
    }
   ],
   "source": [
    "DF_TopBoxOffice"
   ]
  },
  {
   "cell_type": "code",
   "execution_count": 46,
   "metadata": {},
   "outputs": [
    {
     "name": "stderr",
     "output_type": "stream",
     "text": [
      "<ipython-input-46-09364137bc21>:4: DeprecationWarning: find_element_by_* commands are deprecated. Please use find_element() instead\n",
      "  director = driver.find_element_by_xpath(\"//a[@class='ipc-metadata-list-item__list-content-item ipc-metadata-list-item__list-content-item--link']/a\").text\n"
     ]
    },
    {
     "ename": "NoSuchElementException",
     "evalue": "Message: no such element: Unable to locate element: {\"method\":\"xpath\",\"selector\":\"//a[@class='ipc-metadata-list-item__list-content-item ipc-metadata-list-item__list-content-item--link']/a\"}\n  (Session info: chrome=96.0.4664.45)\nStacktrace:\nBacktrace:\n\tOrdinal0 [0x005E6903+2517251]\n\tOrdinal0 [0x0057F8E1+2095329]\n\tOrdinal0 [0x00482848+1058888]\n\tOrdinal0 [0x004AD448+1233992]\n\tOrdinal0 [0x004AD63B+1234491]\n\tOrdinal0 [0x004D7812+1406994]\n\tOrdinal0 [0x004C650A+1336586]\n\tOrdinal0 [0x004D5BBF+1399743]\n\tOrdinal0 [0x004C639B+1336219]\n\tOrdinal0 [0x004A27A7+1189799]\n\tOrdinal0 [0x004A3609+1193481]\n\tGetHandleVerifier [0x00775904+1577972]\n\tGetHandleVerifier [0x00820B97+2279047]\n\tGetHandleVerifier [0x00676D09+534521]\n\tGetHandleVerifier [0x00675DB9+530601]\n\tOrdinal0 [0x00584FF9+2117625]\n\tOrdinal0 [0x005898A8+2136232]\n\tOrdinal0 [0x005899E2+2136546]\n\tOrdinal0 [0x00593541+2176321]\n\tBaseThreadInitThunk [0x75ABFA29+25]\n\tRtlGetAppContainerNamedObjectPath [0x77A37A9E+286]\n\tRtlGetAppContainerNamedObjectPath [0x77A37A6E+238]\n",
     "output_type": "error",
     "traceback": [
      "\u001b[1;31m-------------------------------------------------\u001b[0m",
      "\u001b[1;31mNoSuchElementException\u001b[0mTraceback (most recent call last)",
      "\u001b[1;32m<ipython-input-46-09364137bc21>\u001b[0m in \u001b[0;36m<module>\u001b[1;34m\u001b[0m\n\u001b[0;32m      2\u001b[0m \u001b[0mdriver\u001b[0m\u001b[1;33m.\u001b[0m\u001b[0mget\u001b[0m\u001b[1;33m(\u001b[0m\u001b[0mLinks\u001b[0m\u001b[1;33m[\u001b[0m\u001b[1;36m0\u001b[0m\u001b[1;33m]\u001b[0m\u001b[1;33m)\u001b[0m\u001b[1;33m\u001b[0m\u001b[1;33m\u001b[0m\u001b[0m\n\u001b[0;32m      3\u001b[0m \u001b[1;31m#Get Director\u001b[0m\u001b[1;33m\u001b[0m\u001b[1;33m\u001b[0m\u001b[1;33m\u001b[0m\u001b[0m\n\u001b[1;32m----> 4\u001b[1;33m \u001b[0mdirector\u001b[0m \u001b[1;33m=\u001b[0m \u001b[0mdriver\u001b[0m\u001b[1;33m.\u001b[0m\u001b[0mfind_element_by_xpath\u001b[0m\u001b[1;33m(\u001b[0m\u001b[1;34m\"//a[@class='ipc-metadata-list-item__list-content-item ipc-metadata-list-item__list-content-item--link']/a\"\u001b[0m\u001b[1;33m)\u001b[0m\u001b[1;33m.\u001b[0m\u001b[0mtext\u001b[0m\u001b[1;33m\u001b[0m\u001b[1;33m\u001b[0m\u001b[0m\n\u001b[0m",
      "\u001b[1;32m~\\anaconda3\\lib\\site-packages\\selenium\\webdriver\\remote\\webdriver.py\u001b[0m in \u001b[0;36mfind_element_by_xpath\u001b[1;34m(self, xpath)\u001b[0m\n\u001b[0;32m    518\u001b[0m             \u001b[0mstacklevel\u001b[0m\u001b[1;33m=\u001b[0m\u001b[1;36m2\u001b[0m\u001b[1;33m,\u001b[0m\u001b[1;33m\u001b[0m\u001b[1;33m\u001b[0m\u001b[0m\n\u001b[0;32m    519\u001b[0m         )\n\u001b[1;32m--> 520\u001b[1;33m         \u001b[1;32mreturn\u001b[0m \u001b[0mself\u001b[0m\u001b[1;33m.\u001b[0m\u001b[0mfind_element\u001b[0m\u001b[1;33m(\u001b[0m\u001b[0mby\u001b[0m\u001b[1;33m=\u001b[0m\u001b[0mBy\u001b[0m\u001b[1;33m.\u001b[0m\u001b[0mXPATH\u001b[0m\u001b[1;33m,\u001b[0m \u001b[0mvalue\u001b[0m\u001b[1;33m=\u001b[0m\u001b[0mxpath\u001b[0m\u001b[1;33m)\u001b[0m\u001b[1;33m\u001b[0m\u001b[1;33m\u001b[0m\u001b[0m\n\u001b[0m\u001b[0;32m    521\u001b[0m \u001b[1;33m\u001b[0m\u001b[0m\n\u001b[0;32m    522\u001b[0m     \u001b[1;32mdef\u001b[0m \u001b[0mfind_elements_by_xpath\u001b[0m\u001b[1;33m(\u001b[0m\u001b[0mself\u001b[0m\u001b[1;33m,\u001b[0m \u001b[0mxpath\u001b[0m\u001b[1;33m)\u001b[0m \u001b[1;33m->\u001b[0m \u001b[0mWebElement\u001b[0m\u001b[1;33m:\u001b[0m\u001b[1;33m\u001b[0m\u001b[1;33m\u001b[0m\u001b[0m\n",
      "\u001b[1;32m~\\anaconda3\\lib\\site-packages\\selenium\\webdriver\\remote\\webdriver.py\u001b[0m in \u001b[0;36mfind_element\u001b[1;34m(self, by, value)\u001b[0m\n\u001b[0;32m   1242\u001b[0m             \u001b[0mvalue\u001b[0m \u001b[1;33m=\u001b[0m \u001b[1;34m'[name=\"%s\"]'\u001b[0m \u001b[1;33m%\u001b[0m \u001b[0mvalue\u001b[0m\u001b[1;33m\u001b[0m\u001b[1;33m\u001b[0m\u001b[0m\n\u001b[0;32m   1243\u001b[0m \u001b[1;33m\u001b[0m\u001b[0m\n\u001b[1;32m-> 1244\u001b[1;33m         return self.execute(Command.FIND_ELEMENT, {\n\u001b[0m\u001b[0;32m   1245\u001b[0m             \u001b[1;34m'using'\u001b[0m\u001b[1;33m:\u001b[0m \u001b[0mby\u001b[0m\u001b[1;33m,\u001b[0m\u001b[1;33m\u001b[0m\u001b[1;33m\u001b[0m\u001b[0m\n\u001b[0;32m   1246\u001b[0m             'value': value})['value']\n",
      "\u001b[1;32m~\\anaconda3\\lib\\site-packages\\selenium\\webdriver\\remote\\webdriver.py\u001b[0m in \u001b[0;36mexecute\u001b[1;34m(self, driver_command, params)\u001b[0m\n\u001b[0;32m    422\u001b[0m         \u001b[0mresponse\u001b[0m \u001b[1;33m=\u001b[0m \u001b[0mself\u001b[0m\u001b[1;33m.\u001b[0m\u001b[0mcommand_executor\u001b[0m\u001b[1;33m.\u001b[0m\u001b[0mexecute\u001b[0m\u001b[1;33m(\u001b[0m\u001b[0mdriver_command\u001b[0m\u001b[1;33m,\u001b[0m \u001b[0mparams\u001b[0m\u001b[1;33m)\u001b[0m\u001b[1;33m\u001b[0m\u001b[1;33m\u001b[0m\u001b[0m\n\u001b[0;32m    423\u001b[0m         \u001b[1;32mif\u001b[0m \u001b[0mresponse\u001b[0m\u001b[1;33m:\u001b[0m\u001b[1;33m\u001b[0m\u001b[1;33m\u001b[0m\u001b[0m\n\u001b[1;32m--> 424\u001b[1;33m             \u001b[0mself\u001b[0m\u001b[1;33m.\u001b[0m\u001b[0merror_handler\u001b[0m\u001b[1;33m.\u001b[0m\u001b[0mcheck_response\u001b[0m\u001b[1;33m(\u001b[0m\u001b[0mresponse\u001b[0m\u001b[1;33m)\u001b[0m\u001b[1;33m\u001b[0m\u001b[1;33m\u001b[0m\u001b[0m\n\u001b[0m\u001b[0;32m    425\u001b[0m             response['value'] = self._unwrap_value(\n\u001b[0;32m    426\u001b[0m                 response.get('value', None))\n",
      "\u001b[1;32m~\\anaconda3\\lib\\site-packages\\selenium\\webdriver\\remote\\errorhandler.py\u001b[0m in \u001b[0;36mcheck_response\u001b[1;34m(self, response)\u001b[0m\n\u001b[0;32m    245\u001b[0m                 \u001b[0malert_text\u001b[0m \u001b[1;33m=\u001b[0m \u001b[0mvalue\u001b[0m\u001b[1;33m[\u001b[0m\u001b[1;34m'alert'\u001b[0m\u001b[1;33m]\u001b[0m\u001b[1;33m.\u001b[0m\u001b[0mget\u001b[0m\u001b[1;33m(\u001b[0m\u001b[1;34m'text'\u001b[0m\u001b[1;33m)\u001b[0m\u001b[1;33m\u001b[0m\u001b[1;33m\u001b[0m\u001b[0m\n\u001b[0;32m    246\u001b[0m             \u001b[1;32mraise\u001b[0m \u001b[0mexception_class\u001b[0m\u001b[1;33m(\u001b[0m\u001b[0mmessage\u001b[0m\u001b[1;33m,\u001b[0m \u001b[0mscreen\u001b[0m\u001b[1;33m,\u001b[0m \u001b[0mstacktrace\u001b[0m\u001b[1;33m,\u001b[0m \u001b[0malert_text\u001b[0m\u001b[1;33m)\u001b[0m  \u001b[1;31m# type: ignore[call-arg]  # mypy is not smart enough here\u001b[0m\u001b[1;33m\u001b[0m\u001b[1;33m\u001b[0m\u001b[0m\n\u001b[1;32m--> 247\u001b[1;33m         \u001b[1;32mraise\u001b[0m \u001b[0mexception_class\u001b[0m\u001b[1;33m(\u001b[0m\u001b[0mmessage\u001b[0m\u001b[1;33m,\u001b[0m \u001b[0mscreen\u001b[0m\u001b[1;33m,\u001b[0m \u001b[0mstacktrace\u001b[0m\u001b[1;33m)\u001b[0m\u001b[1;33m\u001b[0m\u001b[1;33m\u001b[0m\u001b[0m\n\u001b[0m\u001b[0;32m    248\u001b[0m \u001b[1;33m\u001b[0m\u001b[0m\n\u001b[0;32m    249\u001b[0m     \u001b[1;32mdef\u001b[0m \u001b[0m_value_or_default\u001b[0m\u001b[1;33m(\u001b[0m\u001b[0mself\u001b[0m\u001b[1;33m,\u001b[0m \u001b[0mobj\u001b[0m\u001b[1;33m:\u001b[0m \u001b[0mMapping\u001b[0m\u001b[1;33m[\u001b[0m\u001b[0m_KT\u001b[0m\u001b[1;33m,\u001b[0m \u001b[0m_VT\u001b[0m\u001b[1;33m]\u001b[0m\u001b[1;33m,\u001b[0m \u001b[0mkey\u001b[0m\u001b[1;33m:\u001b[0m \u001b[0m_KT\u001b[0m\u001b[1;33m,\u001b[0m \u001b[0mdefault\u001b[0m\u001b[1;33m:\u001b[0m \u001b[0m_VT\u001b[0m\u001b[1;33m)\u001b[0m \u001b[1;33m->\u001b[0m \u001b[0m_VT\u001b[0m\u001b[1;33m:\u001b[0m\u001b[1;33m\u001b[0m\u001b[1;33m\u001b[0m\u001b[0m\n",
      "\u001b[1;31mNoSuchElementException\u001b[0m: Message: no such element: Unable to locate element: {\"method\":\"xpath\",\"selector\":\"//a[@class='ipc-metadata-list-item__list-content-item ipc-metadata-list-item__list-content-item--link']/a\"}\n  (Session info: chrome=96.0.4664.45)\nStacktrace:\nBacktrace:\n\tOrdinal0 [0x005E6903+2517251]\n\tOrdinal0 [0x0057F8E1+2095329]\n\tOrdinal0 [0x00482848+1058888]\n\tOrdinal0 [0x004AD448+1233992]\n\tOrdinal0 [0x004AD63B+1234491]\n\tOrdinal0 [0x004D7812+1406994]\n\tOrdinal0 [0x004C650A+1336586]\n\tOrdinal0 [0x004D5BBF+1399743]\n\tOrdinal0 [0x004C639B+1336219]\n\tOrdinal0 [0x004A27A7+1189799]\n\tOrdinal0 [0x004A3609+1193481]\n\tGetHandleVerifier [0x00775904+1577972]\n\tGetHandleVerifier [0x00820B97+2279047]\n\tGetHandleVerifier [0x00676D09+534521]\n\tGetHandleVerifier [0x00675DB9+530601]\n\tOrdinal0 [0x00584FF9+2117625]\n\tOrdinal0 [0x005898A8+2136232]\n\tOrdinal0 [0x005899E2+2136546]\n\tOrdinal0 [0x00593541+2176321]\n\tBaseThreadInitThunk [0x75ABFA29+25]\n\tRtlGetAppContainerNamedObjectPath [0x77A37A9E+286]\n\tRtlGetAppContainerNamedObjectPath [0x77A37A6E+238]\n"
     ]
    }
   ],
   "source": [
    "#Open first links\n",
    "driver.get(Links[0])\n",
    "#Get Director\n",
    "director = driver.find_element_by_xpath(\"//a[@class='ipc-metadata-list-item__list-content-item ipc-metadata-list-item__list-content-item--link']/a\").text"
   ]
  },
  {
   "cell_type": "code",
   "execution_count": 44,
   "metadata": {},
   "outputs": [
    {
     "data": {
      "text/plain": [
       "'See production, box office & company info'"
      ]
     },
     "execution_count": 44,
     "metadata": {},
     "output_type": "execute_result"
    }
   ],
   "source": [
    "director"
   ]
  }
 ],
 "metadata": {
  "kernelspec": {
   "display_name": "Python 3",
   "language": "python",
   "name": "python3"
  },
  "language_info": {
   "codemirror_mode": {
    "name": "ipython",
    "version": 3
   },
   "file_extension": ".py",
   "mimetype": "text/x-python",
   "name": "python",
   "nbconvert_exporter": "python",
   "pygments_lexer": "ipython3",
   "version": "3.8.5"
  }
 },
 "nbformat": 4,
 "nbformat_minor": 4
}
