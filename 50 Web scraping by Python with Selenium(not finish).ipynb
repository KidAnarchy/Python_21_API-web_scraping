{
 "cells": [
  {
   "cell_type": "markdown",
   "metadata": {},
   "source": [
    "### Web scraping by Python with Selenium <Beginner>"
   ]
  },
  {
   "cell_type": "markdown",
   "metadata": {},
   "source": [
    "Reference: https://kaeroidata.medium.com/web-scraping-%E0%B8%94%E0%B9%89%E0%B8%A7%E0%B8%A2-python-%E0%B9%82%E0%B8%94%E0%B8%A2-selenium-beginner-ad6369624ccd"
   ]
  },
  {
   "cell_type": "code",
   "execution_count": 1,
   "metadata": {},
   "outputs": [],
   "source": [
    "# Webpage for pactice IMDb : https://www.imdb.com/"
   ]
  },
  {
   "cell_type": "code",
   "execution_count": 2,
   "metadata": {},
   "outputs": [],
   "source": [
    "# Install Selenium Module\n",
    "# pip install selenium"
   ]
  },
  {
   "cell_type": "markdown",
   "metadata": {},
   "source": [
    "1. Import Library"
   ]
  },
  {
   "cell_type": "code",
   "execution_count": 3,
   "metadata": {},
   "outputs": [],
   "source": [
    "#Import modules\n",
    "from selenium import webdriver\n",
    "import pandas as pd\n",
    "import os"
   ]
  },
  {
   "cell_type": "markdown",
   "metadata": {},
   "source": [
    "2. Set directory(folder)"
   ]
  },
  {
   "cell_type": "code",
   "execution_count": 10,
   "metadata": {},
   "outputs": [],
   "source": [
    "#Set directory\n",
    "path = 'C:/web_selenium/' \n",
    "os.chdir(path) "
   ]
  },
  {
   "cell_type": "markdown",
   "metadata": {},
   "source": [
    "3. Simulate Chrome that use for control "
   ]
  },
  {
   "cell_type": "code",
   "execution_count": 39,
   "metadata": {},
   "outputs": [
    {
     "name": "stderr",
     "output_type": "stream",
     "text": [
      "<ipython-input-39-cb30709e75a0>:2: DeprecationWarning: executable_path has been deprecated, please pass in a Service object\n",
      "  driver = webdriver.Chrome(path+\"chromedriver.exe\")\n"
     ]
    }
   ],
   "source": [
    "#Open webdriver \n",
    "driver = webdriver.Chrome(path+\"chromedriver.exe\")\n",
    "driver.get('https://www.imdb.com/chart/top?sort=us,desc&mode=simple&page=1')"
   ]
  },
  {
   "cell_type": "markdown",
   "metadata": {},
   "source": [
    "Movie Names"
   ]
  },
  {
   "cell_type": "code",
   "execution_count": 15,
   "metadata": {},
   "outputs": [
    {
     "name": "stderr",
     "output_type": "stream",
     "text": [
      "<ipython-input-15-a58d749057a0>:2: DeprecationWarning: find_elements_by_* commands are deprecated. Please use find_elements() instead\n",
      "  movienames = driver.find_elements_by_class_name('titleColumn')\n"
     ]
    }
   ],
   "source": [
    "#Get location of movie names\n",
    "movienames = driver.find_elements_by_class_name('titleColumn')"
   ]
  },
  {
   "cell_type": "code",
   "execution_count": 16,
   "metadata": {},
   "outputs": [],
   "source": [
    "#Get movie names\n",
    "Movienames=[name.text for name in movienames]"
   ]
  },
  {
   "cell_type": "markdown",
   "metadata": {},
   "source": [
    "Rating"
   ]
  },
  {
   "cell_type": "code",
   "execution_count": 18,
   "metadata": {},
   "outputs": [
    {
     "name": "stderr",
     "output_type": "stream",
     "text": [
      "<ipython-input-18-34d834225f8b>:2: DeprecationWarning: find_elements_by_* commands are deprecated. Please use find_elements() instead\n",
      "  ratings = driver.find_elements_by_class_name('ratingColumn.imdbRating')\n"
     ]
    }
   ],
   "source": [
    "#Get ratings\n",
    "ratings = driver.find_elements_by_class_name('ratingColumn.imdbRating')\n",
    "Ratings=[rating.text for rating in ratings]"
   ]
  },
  {
   "cell_type": "markdown",
   "metadata": {},
   "source": [
    "Create DataFrame"
   ]
  },
  {
   "cell_type": "code",
   "execution_count": 19,
   "metadata": {},
   "outputs": [],
   "source": [
    "#Convert to table (DataFrame) set Columns names: MovieNames and Ratings\n",
    "DF_IMDb=pd.DataFrame({'MovieNames':Movienames , 'Ratings':Ratings})"
   ]
  },
  {
   "cell_type": "markdown",
   "metadata": {},
   "source": [
    "Export to Excel file"
   ]
  },
  {
   "cell_type": "code",
   "execution_count": 20,
   "metadata": {},
   "outputs": [],
   "source": [
    "#Export to Excel\n",
    "DF_IMDb.to_excel('DF_IMDb_Data.xlsx')"
   ]
  },
  {
   "cell_type": "markdown",
   "metadata": {},
   "source": [
    "### Keep Cast Name(Links)"
   ]
  },
  {
   "cell_type": "code",
   "execution_count": 21,
   "metadata": {},
   "outputs": [
    {
     "name": "stderr",
     "output_type": "stream",
     "text": [
      "<ipython-input-21-cfac527161b9>:2: DeprecationWarning: find_elements_by_* commands are deprecated. Please use find_elements() instead\n",
      "  links=driver.find_elements_by_xpath(\"//td[@class='titleColumn']/a\")\n"
     ]
    }
   ],
   "source": [
    "#Get location of links\n",
    "links=driver.find_elements_by_xpath(\"//td[@class='titleColumn']/a\")"
   ]
  },
  {
   "cell_type": "code",
   "execution_count": 22,
   "metadata": {},
   "outputs": [],
   "source": [
    "# จากนั้นจะใช้ method .get_attribute('href') ในการเก็บ link ออกมา ดังนี้\n",
    "#Get links\n",
    "Links = [link.get_attribute('href') for link in links]"
   ]
  },
  {
   "cell_type": "code",
   "execution_count": 23,
   "metadata": {},
   "outputs": [],
   "source": [
    "# นำ link ที่ได้มาไปเก็บบน DataFrame\n",
    "DF_IMDb['Links']=Links"
   ]
  },
  {
   "cell_type": "code",
   "execution_count": 24,
   "metadata": {},
   "outputs": [
    {
     "data": {
      "text/html": [
       "<div>\n",
       "<style scoped>\n",
       "    .dataframe tbody tr th:only-of-type {\n",
       "        vertical-align: middle;\n",
       "    }\n",
       "\n",
       "    .dataframe tbody tr th {\n",
       "        vertical-align: top;\n",
       "    }\n",
       "\n",
       "    .dataframe thead th {\n",
       "        text-align: right;\n",
       "    }\n",
       "</style>\n",
       "<table border=\"1\" class=\"dataframe\">\n",
       "  <thead>\n",
       "    <tr style=\"text-align: right;\">\n",
       "      <th></th>\n",
       "      <th>MovieNames</th>\n",
       "      <th>Ratings</th>\n",
       "      <th>Links</th>\n",
       "    </tr>\n",
       "  </thead>\n",
       "  <tbody>\n",
       "    <tr>\n",
       "      <th>0</th>\n",
       "      <td>1. The Shawshank Redemption (1994)</td>\n",
       "      <td>9.2</td>\n",
       "      <td>https://www.imdb.com/title/tt0111161/?pf_rd_m=...</td>\n",
       "    </tr>\n",
       "    <tr>\n",
       "      <th>1</th>\n",
       "      <td>2. The Godfather (1972)</td>\n",
       "      <td>9.1</td>\n",
       "      <td>https://www.imdb.com/title/tt0068646/?pf_rd_m=...</td>\n",
       "    </tr>\n",
       "    <tr>\n",
       "      <th>2</th>\n",
       "      <td>3. The Godfather: Part II (1974)</td>\n",
       "      <td>9.0</td>\n",
       "      <td>https://www.imdb.com/title/tt0071562/?pf_rd_m=...</td>\n",
       "    </tr>\n",
       "    <tr>\n",
       "      <th>3</th>\n",
       "      <td>4. The Dark Knight (2008)</td>\n",
       "      <td>9.0</td>\n",
       "      <td>https://www.imdb.com/title/tt0468569/?pf_rd_m=...</td>\n",
       "    </tr>\n",
       "    <tr>\n",
       "      <th>4</th>\n",
       "      <td>5. 12 Angry Men (1957)</td>\n",
       "      <td>8.9</td>\n",
       "      <td>https://www.imdb.com/title/tt0050083/?pf_rd_m=...</td>\n",
       "    </tr>\n",
       "    <tr>\n",
       "      <th>...</th>\n",
       "      <td>...</td>\n",
       "      <td>...</td>\n",
       "      <td>...</td>\n",
       "    </tr>\n",
       "    <tr>\n",
       "      <th>245</th>\n",
       "      <td>246. The Battle of Algiers (1966)</td>\n",
       "      <td>8.0</td>\n",
       "      <td>https://www.imdb.com/title/tt0058946/?pf_rd_m=...</td>\n",
       "    </tr>\n",
       "    <tr>\n",
       "      <th>246</th>\n",
       "      <td>247. Nights of Cabiria (1957)</td>\n",
       "      <td>8.0</td>\n",
       "      <td>https://www.imdb.com/title/tt0050783/?pf_rd_m=...</td>\n",
       "    </tr>\n",
       "    <tr>\n",
       "      <th>247</th>\n",
       "      <td>248. The Princess Bride (1987)</td>\n",
       "      <td>8.0</td>\n",
       "      <td>https://www.imdb.com/title/tt0093779/?pf_rd_m=...</td>\n",
       "    </tr>\n",
       "    <tr>\n",
       "      <th>248</th>\n",
       "      <td>249. Paris, Texas (1984)</td>\n",
       "      <td>8.0</td>\n",
       "      <td>https://www.imdb.com/title/tt0087884/?pf_rd_m=...</td>\n",
       "    </tr>\n",
       "    <tr>\n",
       "      <th>249</th>\n",
       "      <td>250. Soorarai Pottru (2020)</td>\n",
       "      <td>8.0</td>\n",
       "      <td>https://www.imdb.com/title/tt10189514/?pf_rd_m...</td>\n",
       "    </tr>\n",
       "  </tbody>\n",
       "</table>\n",
       "<p>250 rows × 3 columns</p>\n",
       "</div>"
      ],
      "text/plain": [
       "                             MovieNames Ratings  \\\n",
       "0    1. The Shawshank Redemption (1994)     9.2   \n",
       "1               2. The Godfather (1972)     9.1   \n",
       "2      3. The Godfather: Part II (1974)     9.0   \n",
       "3             4. The Dark Knight (2008)     9.0   \n",
       "4                5. 12 Angry Men (1957)     8.9   \n",
       "..                                  ...     ...   \n",
       "245   246. The Battle of Algiers (1966)     8.0   \n",
       "246       247. Nights of Cabiria (1957)     8.0   \n",
       "247      248. The Princess Bride (1987)     8.0   \n",
       "248            249. Paris, Texas (1984)     8.0   \n",
       "249         250. Soorarai Pottru (2020)     8.0   \n",
       "\n",
       "                                                 Links  \n",
       "0    https://www.imdb.com/title/tt0111161/?pf_rd_m=...  \n",
       "1    https://www.imdb.com/title/tt0068646/?pf_rd_m=...  \n",
       "2    https://www.imdb.com/title/tt0071562/?pf_rd_m=...  \n",
       "3    https://www.imdb.com/title/tt0468569/?pf_rd_m=...  \n",
       "4    https://www.imdb.com/title/tt0050083/?pf_rd_m=...  \n",
       "..                                                 ...  \n",
       "245  https://www.imdb.com/title/tt0058946/?pf_rd_m=...  \n",
       "246  https://www.imdb.com/title/tt0050783/?pf_rd_m=...  \n",
       "247  https://www.imdb.com/title/tt0093779/?pf_rd_m=...  \n",
       "248  https://www.imdb.com/title/tt0087884/?pf_rd_m=...  \n",
       "249  https://www.imdb.com/title/tt10189514/?pf_rd_m...  \n",
       "\n",
       "[250 rows x 3 columns]"
      ]
     },
     "execution_count": 24,
     "metadata": {},
     "output_type": "execute_result"
    }
   ],
   "source": [
    "DF_IMDb"
   ]
  },
  {
   "cell_type": "code",
   "execution_count": null,
   "metadata": {},
   "outputs": [],
   "source": [
    "'''หลังจากเราได้ link มาแล้ว เมื่อเข้าไปทีละลิ้งค์เราจะดึงอะไรออกมาได้บ้าง\n",
    "1. ชื่อผู้กำกับ (Director)\n",
    "2. รายชื่อนักแสดงและบทบาทที่แสดง (Cast)\n",
    "3. โครงเรื่อง (Storyline) และประเภทหนัง (Genres)\n",
    "4. ระยะเวลาของหนัง (Runtime)\n",
    "5. วันที่หนังฉาย (Release Date)\n",
    "6. รายได้รวมทั่วโลก ณ.ปัจจุบัน (Cumulative Worldwide Gross)'''"
   ]
  },
  {
   "cell_type": "markdown",
   "metadata": {},
   "source": [
    "Testing pull 1 page before use loop and test code before pull all pages."
   ]
  },
  {
   "cell_type": "code",
   "execution_count": 56,
   "metadata": {},
   "outputs": [
    {
     "name": "stderr",
     "output_type": "stream",
     "text": [
      "<ipython-input-56-ce2594b49939>:13: DeprecationWarning: find_element_by_* commands are deprecated. Please use find_element() instead\n",
      "  director = driver.find_element_by_xpath(\"//div[@class='ipc-metadata-list-item__content-container']/a\").text\n",
      "<ipython-input-56-ce2594b49939>:16: DeprecationWarning: find_elements_by_* commands are deprecated. Please use find_elements() instead\n",
      "  casts = driver.find_elements_by_xpath(\"//table[@class='cast_list']/tbody/tr\")\n",
      "<ipython-input-56-ce2594b49939>:21: DeprecationWarning: find_element_by_* commands are deprecated. Please use find_element() instead\n",
      "  storyline = driver.find_element_by_xpath(\"//div[@class='ipc-html-content ipc-html-content--base']\").text\n",
      "<ipython-input-56-ce2594b49939>:22: DeprecationWarning: find_elements_by_* commands are deprecated. Please use find_elements() instead\n",
      "  genres = driver.find_elements_by_xpath(\"//div[@class='ipc-metadata-list-item__content-container']\")[1].text\n"
     ]
    }
   ],
   "source": [
    "#Set List to keep data in each link\n",
    "Director=[]\n",
    "ActorNames =[]\n",
    "CharacterNames =[]\n",
    "Storyline=[]\n",
    "Genres=[]\n",
    "\n",
    "#Loop Links\n",
    "for link in range(0,len(Links)):\n",
    "    driver.get(Links[link])\n",
    "    \n",
    "    #Get Director\n",
    "    director = driver.find_element_by_xpath(\"//div[@class='ipc-metadata-list-item__content-container']/a\").text\n",
    "    \n",
    "    #Get casts (ActorNames,CharactorNames)\n",
    "    casts = driver.find_elements_by_xpath(\"//table[@class='cast_list']/tbody/tr\")\n",
    "    Actornames =[cast.text.split('...')[0] for cast in casts if str(cast.text.find('...')).isnumeric()]\n",
    "    Characternames =[cast.text.split('...')[1] for cast in casts if str(cast.text.find('...')).isnumeric()]\n",
    "    \n",
    "    #Get storyline\n",
    "    storyline = driver.find_element_by_xpath(\"//div[@class='ipc-html-content ipc-html-content--base']\").text\n",
    "    genres = driver.find_elements_by_xpath(\"//div[@class='ipc-metadata-list-item__content-container']\")[1].text\n",
    "    genres2 =  genres[genres.find(\" \")+1:]\n",
    "    \n",
    "    \n",
    "    #Collect data in each website \n",
    "    Director.append(director)\n",
    "    ActorNames.append(Actornames)\n",
    "    CharacterNames.append(Characternames)\n",
    "    Storyline.append(storyline)\n",
    "    Genres.append(genres2)"
   ]
  },
  {
   "cell_type": "code",
   "execution_count": 57,
   "metadata": {},
   "outputs": [],
   "source": [
    "#Collect all data to New DataFrame\n",
    "DF_IMDb2=pd.DataFrame({'Director':Director,'ActorNames':ActorNames,'CharacterNames':CharacterNames,\n",
    "                       'Storyline':Storyline,'Genres':Genres})"
   ]
  },
  {
   "cell_type": "code",
   "execution_count": 58,
   "metadata": {},
   "outputs": [],
   "source": [
    "#Concatenate 2 DataFrame\n",
    "DF_IMDb=pd.concat([DF_IMDb, DF_IMDb2], axis=1)"
   ]
  },
  {
   "cell_type": "code",
   "execution_count": 59,
   "metadata": {},
   "outputs": [],
   "source": [
    "#Export to excel file\n",
    "DF_IMDb.to_excel('DF_IMDb_Data.xlsx')"
   ]
  }
 ],
 "metadata": {
  "kernelspec": {
   "display_name": "Python 3",
   "language": "python",
   "name": "python3"
  },
  "language_info": {
   "codemirror_mode": {
    "name": "ipython",
    "version": 3
   },
   "file_extension": ".py",
   "mimetype": "text/x-python",
   "name": "python",
   "nbconvert_exporter": "python",
   "pygments_lexer": "ipython3",
   "version": "3.8.5"
  }
 },
 "nbformat": 4,
 "nbformat_minor": 4
}
