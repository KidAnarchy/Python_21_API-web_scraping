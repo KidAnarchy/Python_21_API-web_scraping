{
 "cells": [
  {
   "cell_type": "markdown",
   "metadata": {},
   "source": [
    "### Web scraping by Python with Selenium <Beginner>"
   ]
  },
  {
   "cell_type": "markdown",
   "metadata": {},
   "source": [
    "Reference: https://kaeroidata.medium.com/web-scraping-%E0%B8%94%E0%B9%89%E0%B8%A7%E0%B8%A2-python-%E0%B9%82%E0%B8%94%E0%B8%A2-selenium-beginner-ad6369624ccd"
   ]
  },
  {
   "cell_type": "code",
   "execution_count": 1,
   "metadata": {},
   "outputs": [],
   "source": [
    "# Webpage for pactice IMDb : https://www.imdb.com/"
   ]
  },
  {
   "cell_type": "code",
   "execution_count": 2,
   "metadata": {},
   "outputs": [],
   "source": [
    "# Install Selenium Module\n",
    "# pip install selenium"
   ]
  },
  {
   "cell_type": "markdown",
   "metadata": {},
   "source": [
    "1. Import Library"
   ]
  },
  {
   "cell_type": "code",
   "execution_count": 1,
   "metadata": {},
   "outputs": [],
   "source": [
    "#Import modules\n",
    "from selenium import webdriver\n",
    "import pandas as pd\n",
    "import os"
   ]
  },
  {
   "cell_type": "markdown",
   "metadata": {},
   "source": [
    "2. Set directory(folder)"
   ]
  },
  {
   "cell_type": "code",
   "execution_count": 2,
   "metadata": {},
   "outputs": [],
   "source": [
    "#Set directory\n",
    "path = 'C:/web_selenium/' \n",
    "os.chdir(path) "
   ]
  },
  {
   "cell_type": "markdown",
   "metadata": {},
   "source": [
    "3. Simulate Chrome that use for control "
   ]
  },
  {
   "cell_type": "code",
   "execution_count": 3,
   "metadata": {},
   "outputs": [
    {
     "name": "stderr",
     "output_type": "stream",
     "text": [
      "<ipython-input-3-7552ee6a9e0a>:2: DeprecationWarning: executable_path has been deprecated, please pass in a Service object\n",
      "  driver = webdriver.Chrome(path+\"chromedriver.exe\")\n"
     ]
    }
   ],
   "source": [
    "#Open webdriver \n",
    "driver = webdriver.Chrome(path+\"chromedriver.exe\")\n",
    "driver.get('https://www.imdb.com/chart/boxoffice?pf_rd_m=A2FGELUUNOQJNL&pf_rd_p=470df400-70d9-4f35-bb05-8646a1195842&pf_rd_r=80H34VYDFNN65N71Z4FY&pf_rd_s=right-4&pf_rd_t=15506&pf_rd_i=moviemeter&ref_=chtmvm_ql_1')"
   ]
  },
  {
   "cell_type": "markdown",
   "metadata": {},
   "source": [
    "Movie Names"
   ]
  },
  {
   "cell_type": "code",
   "execution_count": 5,
   "metadata": {},
   "outputs": [
    {
     "name": "stderr",
     "output_type": "stream",
     "text": [
      "<ipython-input-5-a58d749057a0>:2: DeprecationWarning: find_elements_by_* commands are deprecated. Please use find_elements() instead\n",
      "  movienames = driver.find_elements_by_class_name('titleColumn')\n"
     ]
    }
   ],
   "source": [
    "#Get location of movie names\n",
    "movienames = driver.find_elements_by_class_name('titleColumn')"
   ]
  },
  {
   "cell_type": "code",
   "execution_count": 6,
   "metadata": {},
   "outputs": [],
   "source": [
    "#Get movie names\n",
    "Movienames=[name.text for name in movienames]"
   ]
  },
  {
   "cell_type": "markdown",
   "metadata": {},
   "source": [
    "Rating"
   ]
  },
  {
   "cell_type": "code",
   "execution_count": 10,
   "metadata": {},
   "outputs": [
    {
     "name": "stderr",
     "output_type": "stream",
     "text": [
      "<ipython-input-10-c9f84e869c4c>:2: DeprecationWarning: find_elements_by_* commands are deprecated. Please use find_elements() instead\n",
      "  ratings = driver.find_elements_by_class_name('ratingColumn')\n"
     ]
    }
   ],
   "source": [
    "#Get ratings\n",
    "ratings = driver.find_elements_by_class_name('ratingColumn')\n",
    "Ratings=[rating.text for rating in ratings]"
   ]
  },
  {
   "cell_type": "code",
   "execution_count": 11,
   "metadata": {},
   "outputs": [
    {
     "name": "stderr",
     "output_type": "stream",
     "text": [
      "<ipython-input-11-9b2efb0098d5>:2: DeprecationWarning: find_elements_by_* commands are deprecated. Please use find_elements() instead\n",
      "  grosses = driver.find_elements_by_class_name('secondaryInfo')\n"
     ]
    }
   ],
   "source": [
    "#Get Gross\n",
    "grosses = driver.find_elements_by_class_name('secondaryInfo')\n",
    "Gross = [gross.text for gross in grosses]"
   ]
  },
  {
   "cell_type": "code",
   "execution_count": 17,
   "metadata": {},
   "outputs": [
    {
     "data": {
      "text/plain": [
       "['$44.0M',\n",
       " '$44.0M',\n",
       " '$11.1M',\n",
       " '$136.1M',\n",
       " '$8.1M',\n",
       " '$33.5M',\n",
       " '$5.4M',\n",
       " '$5.4M',\n",
       " '$3.2M',\n",
       " '$98.3M',\n",
       " '$2.9M',\n",
       " '$206.6M',\n",
       " '$2.8M',\n",
       " '$154.7M',\n",
       " '$1.0M',\n",
       " '$13.3M',\n",
       " '$945K',\n",
       " '$3.4M',\n",
       " '$942K',\n",
       " '$22.2M']"
      ]
     },
     "execution_count": 17,
     "metadata": {},
     "output_type": "execute_result"
    }
   ],
   "source": [
    "Ratings"
   ]
  },
  {
   "cell_type": "markdown",
   "metadata": {},
   "source": [
    "Create DataFrame"
   ]
  },
  {
   "cell_type": "code",
   "execution_count": 18,
   "metadata": {},
   "outputs": [],
   "source": [
    "#Convert to table (DataFrame) set Columns names: MovieNames and Ratings\n",
    "DF_TopBoxOffice = pd.DataFrame({'MovieNames':Movienames , 'Gross':Gross})"
   ]
  },
  {
   "cell_type": "markdown",
   "metadata": {},
   "source": [
    "Export to Excel file"
   ]
  },
  {
   "cell_type": "code",
   "execution_count": 19,
   "metadata": {},
   "outputs": [],
   "source": [
    "#Export to Excel\n",
    "DF_TopBoxOffice.to_excel('DF_TopBoxOffice.xlsx')"
   ]
  },
  {
   "cell_type": "markdown",
   "metadata": {},
   "source": [
    "### Keep Cast Name(Links)"
   ]
  },
  {
   "cell_type": "code",
   "execution_count": 20,
   "metadata": {},
   "outputs": [
    {
     "name": "stderr",
     "output_type": "stream",
     "text": [
      "<ipython-input-20-cfac527161b9>:2: DeprecationWarning: find_elements_by_* commands are deprecated. Please use find_elements() instead\n",
      "  links=driver.find_elements_by_xpath(\"//td[@class='titleColumn']/a\")\n"
     ]
    }
   ],
   "source": [
    "#Get location of links\n",
    "links=driver.find_elements_by_xpath(\"//td[@class='titleColumn']/a\")"
   ]
  },
  {
   "cell_type": "code",
   "execution_count": 21,
   "metadata": {},
   "outputs": [],
   "source": [
    "# จากนั้นจะใช้ method .get_attribute('href') ในการเก็บ link ออกมา ดังนี้\n",
    "#Get links\n",
    "Links = [link.get_attribute('href') for link in links]"
   ]
  },
  {
   "cell_type": "code",
   "execution_count": 23,
   "metadata": {},
   "outputs": [],
   "source": [
    "# นำ link ที่ได้มาไปเก็บบน DataFrame\n",
    "DF_TopBoxOffice['Links']=Links"
   ]
  },
  {
   "cell_type": "code",
   "execution_count": 25,
   "metadata": {},
   "outputs": [
    {
     "data": {
      "text/html": [
       "<div>\n",
       "<style scoped>\n",
       "    .dataframe tbody tr th:only-of-type {\n",
       "        vertical-align: middle;\n",
       "    }\n",
       "\n",
       "    .dataframe tbody tr th {\n",
       "        vertical-align: top;\n",
       "    }\n",
       "\n",
       "    .dataframe thead th {\n",
       "        text-align: right;\n",
       "    }\n",
       "</style>\n",
       "<table border=\"1\" class=\"dataframe\">\n",
       "  <thead>\n",
       "    <tr style=\"text-align: right;\">\n",
       "      <th></th>\n",
       "      <th>MovieNames</th>\n",
       "      <th>Gross</th>\n",
       "      <th>Links</th>\n",
       "    </tr>\n",
       "  </thead>\n",
       "  <tbody>\n",
       "    <tr>\n",
       "      <th>0</th>\n",
       "      <td>Ghostbusters: Afterlife</td>\n",
       "      <td>$44.0M</td>\n",
       "      <td>https://www.imdb.com/title/tt4513678?pf_rd_m=A...</td>\n",
       "    </tr>\n",
       "    <tr>\n",
       "      <th>1</th>\n",
       "      <td>Eternals</td>\n",
       "      <td>$136.1M</td>\n",
       "      <td>https://www.imdb.com/title/tt9032400?pf_rd_m=A...</td>\n",
       "    </tr>\n",
       "    <tr>\n",
       "      <th>2</th>\n",
       "      <td>Clifford the Big Red Dog</td>\n",
       "      <td>$33.5M</td>\n",
       "      <td>https://www.imdb.com/title/tt2397461?pf_rd_m=A...</td>\n",
       "    </tr>\n",
       "    <tr>\n",
       "      <th>3</th>\n",
       "      <td>King Richard</td>\n",
       "      <td>$5.4M</td>\n",
       "      <td>https://www.imdb.com/title/tt9620288?pf_rd_m=A...</td>\n",
       "    </tr>\n",
       "    <tr>\n",
       "      <th>4</th>\n",
       "      <td>Dune: Part One</td>\n",
       "      <td>$98.3M</td>\n",
       "      <td>https://www.imdb.com/title/tt1160419?pf_rd_m=A...</td>\n",
       "    </tr>\n",
       "    <tr>\n",
       "      <th>5</th>\n",
       "      <td>Venom: Let There Be Carnage</td>\n",
       "      <td>$206.6M</td>\n",
       "      <td>https://www.imdb.com/title/tt7097896?pf_rd_m=A...</td>\n",
       "    </tr>\n",
       "    <tr>\n",
       "      <th>6</th>\n",
       "      <td>No Time to Die</td>\n",
       "      <td>$154.7M</td>\n",
       "      <td>https://www.imdb.com/title/tt2382320?pf_rd_m=A...</td>\n",
       "    </tr>\n",
       "    <tr>\n",
       "      <th>7</th>\n",
       "      <td>The French Dispatch</td>\n",
       "      <td>$13.3M</td>\n",
       "      <td>https://www.imdb.com/title/tt8847712?pf_rd_m=A...</td>\n",
       "    </tr>\n",
       "    <tr>\n",
       "      <th>8</th>\n",
       "      <td>Belfast</td>\n",
       "      <td>$3.4M</td>\n",
       "      <td>https://www.imdb.com/title/tt12789558?pf_rd_m=...</td>\n",
       "    </tr>\n",
       "    <tr>\n",
       "      <th>9</th>\n",
       "      <td>Ron's Gone Wrong</td>\n",
       "      <td>$22.2M</td>\n",
       "      <td>https://www.imdb.com/title/tt7504818?pf_rd_m=A...</td>\n",
       "    </tr>\n",
       "  </tbody>\n",
       "</table>\n",
       "</div>"
      ],
      "text/plain": [
       "                    MovieNames    Gross  \\\n",
       "0      Ghostbusters: Afterlife   $44.0M   \n",
       "1                     Eternals  $136.1M   \n",
       "2     Clifford the Big Red Dog   $33.5M   \n",
       "3                 King Richard    $5.4M   \n",
       "4               Dune: Part One   $98.3M   \n",
       "5  Venom: Let There Be Carnage  $206.6M   \n",
       "6               No Time to Die  $154.7M   \n",
       "7          The French Dispatch   $13.3M   \n",
       "8                      Belfast    $3.4M   \n",
       "9             Ron's Gone Wrong   $22.2M   \n",
       "\n",
       "                                               Links  \n",
       "0  https://www.imdb.com/title/tt4513678?pf_rd_m=A...  \n",
       "1  https://www.imdb.com/title/tt9032400?pf_rd_m=A...  \n",
       "2  https://www.imdb.com/title/tt2397461?pf_rd_m=A...  \n",
       "3  https://www.imdb.com/title/tt9620288?pf_rd_m=A...  \n",
       "4  https://www.imdb.com/title/tt1160419?pf_rd_m=A...  \n",
       "5  https://www.imdb.com/title/tt7097896?pf_rd_m=A...  \n",
       "6  https://www.imdb.com/title/tt2382320?pf_rd_m=A...  \n",
       "7  https://www.imdb.com/title/tt8847712?pf_rd_m=A...  \n",
       "8  https://www.imdb.com/title/tt12789558?pf_rd_m=...  \n",
       "9  https://www.imdb.com/title/tt7504818?pf_rd_m=A...  "
      ]
     },
     "execution_count": 25,
     "metadata": {},
     "output_type": "execute_result"
    }
   ],
   "source": [
    "DF_TopBoxOffice"
   ]
  },
  {
   "cell_type": "code",
   "execution_count": null,
   "metadata": {},
   "outputs": [],
   "source": [
    "'''หลังจากเราได้ link มาแล้ว เมื่อเข้าไปทีละลิ้งค์เราจะดึงอะไรออกมาได้บ้าง\n",
    "1. ชื่อผู้กำกับ (Director)\n",
    "2. รายชื่อนักแสดงและบทบาทที่แสดง (Cast)\n",
    "3. โครงเรื่อง (Storyline) และประเภทหนัง (Genres)\n",
    "4. ระยะเวลาของหนัง (Runtime)\n",
    "5. วันที่หนังฉาย (Release Date)\n",
    "6. รายได้รวมทั่วโลก ณ.ปัจจุบัน (Cumulative Worldwide Gross)'''"
   ]
  },
  {
   "cell_type": "markdown",
   "metadata": {},
   "source": [
    "Testing pull 1 page before use loop and test code before pull all pages."
   ]
  },
  {
   "cell_type": "code",
   "execution_count": 48,
   "metadata": {},
   "outputs": [
    {
     "name": "stderr",
     "output_type": "stream",
     "text": [
      "<ipython-input-48-749682bac0b0>:6: DeprecationWarning: find_element_by_* commands are deprecated. Please use find_element() instead\n",
      "  director = driver.find_element_by_xpath(\"//div[@class='ipc-metadata-list-item__content-container']\").text\n"
     ]
    }
   ],
   "source": [
    "#Open first links\n",
    "driver.get(Links[0])\n",
    "\n",
    "\n",
    "#Get Director\n",
    "director = driver.find_element_by_xpath(\"//div[@class='ipc-metadata-list-item__content-container']\").text"
   ]
  },
  {
   "cell_type": "code",
   "execution_count": 45,
   "metadata": {},
   "outputs": [
    {
     "name": "stderr",
     "output_type": "stream",
     "text": [
      "<ipython-input-45-30828a6587a7>:2: DeprecationWarning: find_elements_by_* commands are deprecated. Please use find_elements() instead\n",
      "  cast = driver.find_elements_by_xpath(\"//table[@class='StyledComponents__CastItemSummary']\")\n"
     ]
    }
   ],
   "source": [
    "#Get casts (ActorNames,CharactorNames)\n",
    "cast = driver.find_elements_by_xpath(\"//table[@class='StyledComponents__CastItemSummary']\")\n",
    "Actornames =[cast.text.split('...')[0] for cast in casts if str(cast.text.find('...')).isnumeric()]\n",
    "Characternames =[cast.text.split('...')[1] for cast in casts if str(cast.text.find('...')).isnumeric()]"
   ]
  },
  {
   "cell_type": "code",
   "execution_count": 32,
   "metadata": {},
   "outputs": [
    {
     "name": "stderr",
     "output_type": "stream",
     "text": [
      "<ipython-input-32-449676ffc5c6>:2: DeprecationWarning: find_element_by_* commands are deprecated. Please use find_element() instead\n",
      "  storyline = driver.find_element_by_xpath(\"//div[@class='ipc-html-content ipc-html-content--base']\").text\n"
     ]
    }
   ],
   "source": [
    "#Get storyline\n",
    "storyline = driver.find_element_by_xpath(\"//div[@class='ipc-html-content ipc-html-content--base']\").text"
   ]
  },
  {
   "cell_type": "code",
   "execution_count": 47,
   "metadata": {},
   "outputs": [
    {
     "data": {
      "text/plain": [
       "'See production, box office & company info'"
      ]
     },
     "execution_count": 47,
     "metadata": {},
     "output_type": "execute_result"
    }
   ],
   "source": [
    "<div class=\"ipc-metadata-list-item__content-container\"><ul class=\"ipc-inline-list ipc-inline-list--show-dividers ipc-inline-list--inline ipc-metadata-list-item__list-content baseAlt\" role=\"presentation\"><li role=\"presentation\" class=\"ipc-inline-list__item\"><a class=\"ipc-metadata-list-item__list-content-item ipc-metadata-list-item__list-content-item--link\" rel=\"\" href=\"/name/nm0718646/?ref_=tt_ov_dr\">Jason Reitman</a></li></ul></div>"
   ]
  },
  {
   "cell_type": "code",
   "execution_count": 26,
   "metadata": {},
   "outputs": [
    {
     "name": "stderr",
     "output_type": "stream",
     "text": [
      "<ipython-input-26-7737a217f75a>:6: DeprecationWarning: find_element_by_* commands are deprecated. Please use find_element() instead\n",
      "  director = driver.find_element_by_xpath(\"//div[@class='ipc-metadata-list-item__content-container']/a\").text\n",
      "<ipython-input-26-7737a217f75a>:9: DeprecationWarning: find_elements_by_* commands are deprecated. Please use find_elements() instead\n",
      "  casts = driver.find_elements_by_xpath(\"//table[@class='cast_list']/tbody/tr\")\n",
      "<ipython-input-26-7737a217f75a>:14: DeprecationWarning: find_element_by_* commands are deprecated. Please use find_element() instead\n",
      "  storyline = driver.find_element_by_xpath(\"//div[@class='inline canwrap']/p/span\").text\n"
     ]
    },
    {
     "ename": "NoSuchElementException",
     "evalue": "Message: no such element: Unable to locate element: {\"method\":\"xpath\",\"selector\":\"//div[@class='inline canwrap']/p/span\"}\n  (Session info: chrome=96.0.4664.45)\nStacktrace:\nBacktrace:\n\tOrdinal0 [0x005E6903+2517251]\n\tOrdinal0 [0x0057F8E1+2095329]\n\tOrdinal0 [0x00482848+1058888]\n\tOrdinal0 [0x004AD448+1233992]\n\tOrdinal0 [0x004AD63B+1234491]\n\tOrdinal0 [0x004D7812+1406994]\n\tOrdinal0 [0x004C650A+1336586]\n\tOrdinal0 [0x004D5BBF+1399743]\n\tOrdinal0 [0x004C639B+1336219]\n\tOrdinal0 [0x004A27A7+1189799]\n\tOrdinal0 [0x004A3609+1193481]\n\tGetHandleVerifier [0x00775904+1577972]\n\tGetHandleVerifier [0x00820B97+2279047]\n\tGetHandleVerifier [0x00676D09+534521]\n\tGetHandleVerifier [0x00675DB9+530601]\n\tOrdinal0 [0x00584FF9+2117625]\n\tOrdinal0 [0x005898A8+2136232]\n\tOrdinal0 [0x005899E2+2136546]\n\tOrdinal0 [0x00593541+2176321]\n\tBaseThreadInitThunk [0x75ABFA29+25]\n\tRtlGetAppContainerNamedObjectPath [0x77A37A9E+286]\n\tRtlGetAppContainerNamedObjectPath [0x77A37A6E+238]\n",
     "output_type": "error",
     "traceback": [
      "\u001b[1;31m-------------------------------------------------\u001b[0m",
      "\u001b[1;31mNoSuchElementException\u001b[0mTraceback (most recent call last)",
      "\u001b[1;32m<ipython-input-26-7737a217f75a>\u001b[0m in \u001b[0;36m<module>\u001b[1;34m\u001b[0m\n\u001b[0;32m     12\u001b[0m \u001b[1;33m\u001b[0m\u001b[0m\n\u001b[0;32m     13\u001b[0m \u001b[1;31m#Get storyline\u001b[0m\u001b[1;33m\u001b[0m\u001b[1;33m\u001b[0m\u001b[1;33m\u001b[0m\u001b[0m\n\u001b[1;32m---> 14\u001b[1;33m \u001b[0mstoryline\u001b[0m \u001b[1;33m=\u001b[0m \u001b[0mdriver\u001b[0m\u001b[1;33m.\u001b[0m\u001b[0mfind_element_by_xpath\u001b[0m\u001b[1;33m(\u001b[0m\u001b[1;34m\"//div[@class='inline canwrap']/p/span\"\u001b[0m\u001b[1;33m)\u001b[0m\u001b[1;33m.\u001b[0m\u001b[0mtext\u001b[0m\u001b[1;33m\u001b[0m\u001b[1;33m\u001b[0m\u001b[0m\n\u001b[0m\u001b[0;32m     15\u001b[0m \u001b[0mgenres\u001b[0m \u001b[1;33m=\u001b[0m \u001b[0mdriver\u001b[0m\u001b[1;33m.\u001b[0m\u001b[0mfind_elements_by_xpath\u001b[0m\u001b[1;33m(\u001b[0m\u001b[1;34m\"//div[@id='titleStoryLine']/div[@class='see-more inline canwrap']\"\u001b[0m\u001b[1;33m)\u001b[0m\u001b[1;33m[\u001b[0m\u001b[1;36m1\u001b[0m\u001b[1;33m]\u001b[0m\u001b[1;33m.\u001b[0m\u001b[0mtext\u001b[0m\u001b[1;33m\u001b[0m\u001b[1;33m\u001b[0m\u001b[0m\n\u001b[0;32m     16\u001b[0m \u001b[0mgenres2\u001b[0m \u001b[1;33m=\u001b[0m  \u001b[0mgenres\u001b[0m\u001b[1;33m[\u001b[0m\u001b[0mgenres\u001b[0m\u001b[1;33m.\u001b[0m\u001b[0mfind\u001b[0m\u001b[1;33m(\u001b[0m\u001b[1;34m\" \"\u001b[0m\u001b[1;33m)\u001b[0m\u001b[1;33m+\u001b[0m\u001b[1;36m1\u001b[0m\u001b[1;33m:\u001b[0m\u001b[1;33m]\u001b[0m\u001b[1;33m\u001b[0m\u001b[1;33m\u001b[0m\u001b[0m\n",
      "\u001b[1;32m~\\anaconda3\\lib\\site-packages\\selenium\\webdriver\\remote\\webdriver.py\u001b[0m in \u001b[0;36mfind_element_by_xpath\u001b[1;34m(self, xpath)\u001b[0m\n\u001b[0;32m    518\u001b[0m             \u001b[0mstacklevel\u001b[0m\u001b[1;33m=\u001b[0m\u001b[1;36m2\u001b[0m\u001b[1;33m,\u001b[0m\u001b[1;33m\u001b[0m\u001b[1;33m\u001b[0m\u001b[0m\n\u001b[0;32m    519\u001b[0m         )\n\u001b[1;32m--> 520\u001b[1;33m         \u001b[1;32mreturn\u001b[0m \u001b[0mself\u001b[0m\u001b[1;33m.\u001b[0m\u001b[0mfind_element\u001b[0m\u001b[1;33m(\u001b[0m\u001b[0mby\u001b[0m\u001b[1;33m=\u001b[0m\u001b[0mBy\u001b[0m\u001b[1;33m.\u001b[0m\u001b[0mXPATH\u001b[0m\u001b[1;33m,\u001b[0m \u001b[0mvalue\u001b[0m\u001b[1;33m=\u001b[0m\u001b[0mxpath\u001b[0m\u001b[1;33m)\u001b[0m\u001b[1;33m\u001b[0m\u001b[1;33m\u001b[0m\u001b[0m\n\u001b[0m\u001b[0;32m    521\u001b[0m \u001b[1;33m\u001b[0m\u001b[0m\n\u001b[0;32m    522\u001b[0m     \u001b[1;32mdef\u001b[0m \u001b[0mfind_elements_by_xpath\u001b[0m\u001b[1;33m(\u001b[0m\u001b[0mself\u001b[0m\u001b[1;33m,\u001b[0m \u001b[0mxpath\u001b[0m\u001b[1;33m)\u001b[0m \u001b[1;33m->\u001b[0m \u001b[0mWebElement\u001b[0m\u001b[1;33m:\u001b[0m\u001b[1;33m\u001b[0m\u001b[1;33m\u001b[0m\u001b[0m\n",
      "\u001b[1;32m~\\anaconda3\\lib\\site-packages\\selenium\\webdriver\\remote\\webdriver.py\u001b[0m in \u001b[0;36mfind_element\u001b[1;34m(self, by, value)\u001b[0m\n\u001b[0;32m   1242\u001b[0m             \u001b[0mvalue\u001b[0m \u001b[1;33m=\u001b[0m \u001b[1;34m'[name=\"%s\"]'\u001b[0m \u001b[1;33m%\u001b[0m \u001b[0mvalue\u001b[0m\u001b[1;33m\u001b[0m\u001b[1;33m\u001b[0m\u001b[0m\n\u001b[0;32m   1243\u001b[0m \u001b[1;33m\u001b[0m\u001b[0m\n\u001b[1;32m-> 1244\u001b[1;33m         return self.execute(Command.FIND_ELEMENT, {\n\u001b[0m\u001b[0;32m   1245\u001b[0m             \u001b[1;34m'using'\u001b[0m\u001b[1;33m:\u001b[0m \u001b[0mby\u001b[0m\u001b[1;33m,\u001b[0m\u001b[1;33m\u001b[0m\u001b[1;33m\u001b[0m\u001b[0m\n\u001b[0;32m   1246\u001b[0m             'value': value})['value']\n",
      "\u001b[1;32m~\\anaconda3\\lib\\site-packages\\selenium\\webdriver\\remote\\webdriver.py\u001b[0m in \u001b[0;36mexecute\u001b[1;34m(self, driver_command, params)\u001b[0m\n\u001b[0;32m    422\u001b[0m         \u001b[0mresponse\u001b[0m \u001b[1;33m=\u001b[0m \u001b[0mself\u001b[0m\u001b[1;33m.\u001b[0m\u001b[0mcommand_executor\u001b[0m\u001b[1;33m.\u001b[0m\u001b[0mexecute\u001b[0m\u001b[1;33m(\u001b[0m\u001b[0mdriver_command\u001b[0m\u001b[1;33m,\u001b[0m \u001b[0mparams\u001b[0m\u001b[1;33m)\u001b[0m\u001b[1;33m\u001b[0m\u001b[1;33m\u001b[0m\u001b[0m\n\u001b[0;32m    423\u001b[0m         \u001b[1;32mif\u001b[0m \u001b[0mresponse\u001b[0m\u001b[1;33m:\u001b[0m\u001b[1;33m\u001b[0m\u001b[1;33m\u001b[0m\u001b[0m\n\u001b[1;32m--> 424\u001b[1;33m             \u001b[0mself\u001b[0m\u001b[1;33m.\u001b[0m\u001b[0merror_handler\u001b[0m\u001b[1;33m.\u001b[0m\u001b[0mcheck_response\u001b[0m\u001b[1;33m(\u001b[0m\u001b[0mresponse\u001b[0m\u001b[1;33m)\u001b[0m\u001b[1;33m\u001b[0m\u001b[1;33m\u001b[0m\u001b[0m\n\u001b[0m\u001b[0;32m    425\u001b[0m             response['value'] = self._unwrap_value(\n\u001b[0;32m    426\u001b[0m                 response.get('value', None))\n",
      "\u001b[1;32m~\\anaconda3\\lib\\site-packages\\selenium\\webdriver\\remote\\errorhandler.py\u001b[0m in \u001b[0;36mcheck_response\u001b[1;34m(self, response)\u001b[0m\n\u001b[0;32m    245\u001b[0m                 \u001b[0malert_text\u001b[0m \u001b[1;33m=\u001b[0m \u001b[0mvalue\u001b[0m\u001b[1;33m[\u001b[0m\u001b[1;34m'alert'\u001b[0m\u001b[1;33m]\u001b[0m\u001b[1;33m.\u001b[0m\u001b[0mget\u001b[0m\u001b[1;33m(\u001b[0m\u001b[1;34m'text'\u001b[0m\u001b[1;33m)\u001b[0m\u001b[1;33m\u001b[0m\u001b[1;33m\u001b[0m\u001b[0m\n\u001b[0;32m    246\u001b[0m             \u001b[1;32mraise\u001b[0m \u001b[0mexception_class\u001b[0m\u001b[1;33m(\u001b[0m\u001b[0mmessage\u001b[0m\u001b[1;33m,\u001b[0m \u001b[0mscreen\u001b[0m\u001b[1;33m,\u001b[0m \u001b[0mstacktrace\u001b[0m\u001b[1;33m,\u001b[0m \u001b[0malert_text\u001b[0m\u001b[1;33m)\u001b[0m  \u001b[1;31m# type: ignore[call-arg]  # mypy is not smart enough here\u001b[0m\u001b[1;33m\u001b[0m\u001b[1;33m\u001b[0m\u001b[0m\n\u001b[1;32m--> 247\u001b[1;33m         \u001b[1;32mraise\u001b[0m \u001b[0mexception_class\u001b[0m\u001b[1;33m(\u001b[0m\u001b[0mmessage\u001b[0m\u001b[1;33m,\u001b[0m \u001b[0mscreen\u001b[0m\u001b[1;33m,\u001b[0m \u001b[0mstacktrace\u001b[0m\u001b[1;33m)\u001b[0m\u001b[1;33m\u001b[0m\u001b[1;33m\u001b[0m\u001b[0m\n\u001b[0m\u001b[0;32m    248\u001b[0m \u001b[1;33m\u001b[0m\u001b[0m\n\u001b[0;32m    249\u001b[0m     \u001b[1;32mdef\u001b[0m \u001b[0m_value_or_default\u001b[0m\u001b[1;33m(\u001b[0m\u001b[0mself\u001b[0m\u001b[1;33m,\u001b[0m \u001b[0mobj\u001b[0m\u001b[1;33m:\u001b[0m \u001b[0mMapping\u001b[0m\u001b[1;33m[\u001b[0m\u001b[0m_KT\u001b[0m\u001b[1;33m,\u001b[0m \u001b[0m_VT\u001b[0m\u001b[1;33m]\u001b[0m\u001b[1;33m,\u001b[0m \u001b[0mkey\u001b[0m\u001b[1;33m:\u001b[0m \u001b[0m_KT\u001b[0m\u001b[1;33m,\u001b[0m \u001b[0mdefault\u001b[0m\u001b[1;33m:\u001b[0m \u001b[0m_VT\u001b[0m\u001b[1;33m)\u001b[0m \u001b[1;33m->\u001b[0m \u001b[0m_VT\u001b[0m\u001b[1;33m:\u001b[0m\u001b[1;33m\u001b[0m\u001b[1;33m\u001b[0m\u001b[0m\n",
      "\u001b[1;31mNoSuchElementException\u001b[0m: Message: no such element: Unable to locate element: {\"method\":\"xpath\",\"selector\":\"//div[@class='inline canwrap']/p/span\"}\n  (Session info: chrome=96.0.4664.45)\nStacktrace:\nBacktrace:\n\tOrdinal0 [0x005E6903+2517251]\n\tOrdinal0 [0x0057F8E1+2095329]\n\tOrdinal0 [0x00482848+1058888]\n\tOrdinal0 [0x004AD448+1233992]\n\tOrdinal0 [0x004AD63B+1234491]\n\tOrdinal0 [0x004D7812+1406994]\n\tOrdinal0 [0x004C650A+1336586]\n\tOrdinal0 [0x004D5BBF+1399743]\n\tOrdinal0 [0x004C639B+1336219]\n\tOrdinal0 [0x004A27A7+1189799]\n\tOrdinal0 [0x004A3609+1193481]\n\tGetHandleVerifier [0x00775904+1577972]\n\tGetHandleVerifier [0x00820B97+2279047]\n\tGetHandleVerifier [0x00676D09+534521]\n\tGetHandleVerifier [0x00675DB9+530601]\n\tOrdinal0 [0x00584FF9+2117625]\n\tOrdinal0 [0x005898A8+2136232]\n\tOrdinal0 [0x005899E2+2136546]\n\tOrdinal0 [0x00593541+2176321]\n\tBaseThreadInitThunk [0x75ABFA29+25]\n\tRtlGetAppContainerNamedObjectPath [0x77A37A9E+286]\n\tRtlGetAppContainerNamedObjectPath [0x77A37A6E+238]\n"
     ]
    }
   ],
   "source": [
    "Detail = driver.find_element_by_id(\"titleDetails\").text\n",
    "\n",
    "#Get releasedate\n",
    "releasedate=Detail[Detail.find(\"Release Date:\")+14:]\n",
    "releasedate2=releasedate[0:releasedate.find(\"See more\")-1]\n",
    "\n",
    "#Get worldwidegross\n",
    "worldwidegross=Detail[Detail.find(\"Cumulative Worldwide Gross:\")+28:]\n",
    "worldwidegross2=worldwidegross[0:worldwidegross.find(\"\\n\")]\n",
    "\n",
    "#Get runtime\n",
    "runtime=Detail[Detail.find(\"Runtime:\")+9:]\n",
    "runtime2=runtime[0:runtime.find(\"min\")-1]"
   ]
  },
  {
   "cell_type": "code",
   "execution_count": 57,
   "metadata": {},
   "outputs": [],
   "source": [
    "#Collect all data to New DataFrame\n",
    "DF_IMDb2=pd.DataFrame({'Director':Director,'ActorNames':ActorNames,'CharacterNames':CharacterNames,\n",
    "                       'Storyline':Storyline,'Genres':Genres})"
   ]
  },
  {
   "cell_type": "code",
   "execution_count": 58,
   "metadata": {},
   "outputs": [],
   "source": [
    "#Concatenate 2 DataFrame\n",
    "DF_IMDb=pd.concat([DF_IMDb, DF_IMDb2], axis=1)"
   ]
  },
  {
   "cell_type": "code",
   "execution_count": 59,
   "metadata": {},
   "outputs": [],
   "source": [
    "#Export to excel file\n",
    "DF_IMDb.to_excel('DF_IMDb_Data.xlsx')"
   ]
  },
  {
   "cell_type": "code",
   "execution_count": null,
   "metadata": {},
   "outputs": [],
   "source": []
  }
 ],
 "metadata": {
  "kernelspec": {
   "display_name": "Python 3",
   "language": "python",
   "name": "python3"
  },
  "language_info": {
   "codemirror_mode": {
    "name": "ipython",
    "version": 3
   },
   "file_extension": ".py",
   "mimetype": "text/x-python",
   "name": "python",
   "nbconvert_exporter": "python",
   "pygments_lexer": "ipython3",
   "version": "3.8.5"
  }
 },
 "nbformat": 4,
 "nbformat_minor": 4
}
